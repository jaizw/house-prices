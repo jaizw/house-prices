{
 "cells": [
  {
   "cell_type": "code",
   "execution_count": 13,
   "metadata": {
    "collapsed": true
   },
   "outputs": [],
   "source": [
    "import pandas as pd\n",
    "from pandas import Series,DataFrame\n",
    "\n",
    "import numpy as np\n",
    "import matplotlib as mpl\n",
    "import matplotlib.pyplot as plt\n",
    "import seaborn as sns\n",
    "%matplotlib inline\n",
    "\n",
    "from collections import Counter\n",
    "\n",
    "from sklearn.linear_model import LinearRegression\n",
    "from sklearn.model_selection import train_test_split\n",
    "from sklearn.externals import joblib"
   ]
  },
  {
   "cell_type": "code",
   "execution_count": 14,
   "metadata": {
    "collapsed": true
   },
   "outputs": [],
   "source": [
    "org_house_df = pd.read_csv('train.csv')"
   ]
  },
  {
   "cell_type": "code",
   "execution_count": 41,
   "metadata": {
    "collapsed": true
   },
   "outputs": [],
   "source": [
    "def pre_process(org_house_df):\n",
    "    \n",
    "    house_df = pd.DataFrame()\n",
    "    \n",
    "    org_house_df = org_house_df.fillna({'MSZoning' : 5}) \n",
    "    house_df['MSZoning']= org_house_df['MSZoning'].map({'C (all)': 0, 'FV': 1, 'RH': 2, 'RL': 3, 'RM': 4, 5:5}).astype(int)\n",
    "    house_df['LandContour']= org_house_df['LandContour'].map({'Bnk': 0, 'HLS': 1, 'Low': 2, 'Lvl': 3}).astype(int)\n",
    "    house_df['Condition1']= org_house_df['Condition1'].map({'Artery': 0,\n",
    "         'Feedr': 1,\n",
    "         'Norm': 2,\n",
    "         'PosA': 3,\n",
    "         'PosN': 4,\n",
    "         'RRAe': 5,\n",
    "         'RRAn': 6,\n",
    "         'RRNe': 7,\n",
    "         'RRNn': 8}).astype(int)\n",
    "    house_df['Condition2']= org_house_df['Condition2'].map({'Artery': 0,\n",
    "         'Feedr': 1,\n",
    "         'Norm': 2,\n",
    "         'PosA': 3,\n",
    "         'PosN': 4,\n",
    "         'RRAe': 5,\n",
    "         'RRAn': 6,\n",
    "         'RRNn': 7}).astype(int)\n",
    "    house_df['Neighborhood']= org_house_df['Neighborhood'].map({'Blmngtn': 0,\n",
    "         'Blueste': 1,\n",
    "         'BrDale': 2,\n",
    "         'BrkSide': 3,\n",
    "         'ClearCr': 4,\n",
    "         'CollgCr': 5,\n",
    "         'Crawfor': 6,\n",
    "         'Edwards': 7,\n",
    "         'Gilbert': 8,\n",
    "         'IDOTRR': 9,\n",
    "         'MeadowV': 10,\n",
    "         'Mitchel': 11,\n",
    "         'NAmes': 12,\n",
    "         'NPkVill': 13,\n",
    "         'NWAmes': 14,\n",
    "         'NoRidge': 15,\n",
    "         'NridgHt': 16,\n",
    "         'OldTown': 17,\n",
    "         'SWISU': 18,\n",
    "         'Sawyer': 19,\n",
    "         'SawyerW': 20,\n",
    "         'Somerst': 21,\n",
    "         'StoneBr': 22,\n",
    "         'Timber': 23,\n",
    "         'Veenker': 24}).astype(int)\n",
    "    house_df['BldgType']= org_house_df['BldgType'].map({'1Fam': 0, '2fmCon': 1, 'Duplex': 2, 'Twnhs': 3, 'TwnhsE': 4}).astype(int)\n",
    "    house_df['HeatingQC']= org_house_df['HeatingQC'].map({'Ex': 0, 'Fa': 1, 'Gd': 2, 'Po': 3, 'TA': 4}).astype(int)\n",
    "    house_df['BedroomAbvGr']= org_house_df['BedroomAbvGr']\n",
    "    \n",
    "    org_house_df = org_house_df.fillna({'KitchenQual' : 4}) \n",
    "    house_df['KitchenQual']= org_house_df['KitchenQual'].map({'Ex': 0, 'Fa': 1, 'Gd': 2, 'TA': 3, 4:4}).astype(int)\n",
    "    \n",
    "    house_df['TotRmsAbvGrd']= org_house_df['TotRmsAbvGrd']\n",
    "    house_df['Fireplaces']= org_house_df['Fireplaces']\n",
    "    \n",
    "    org_house_df = org_house_df.fillna({'FireplaceQu' : 5}) \n",
    "    house_df['FireplaceQu']=org_house_df['FireplaceQu'].map({ 'Ex': 0, 'Fa': 1, 'Gd': 2, 'Po': 3, 'TA': 4,5:5}).astype(int)\n",
    "    \n",
    "    org_house_df = org_house_df.fillna({'GarageType' : 6}) \n",
    "    house_df['GarageType']=org_house_df['GarageType'].map({'2Types': 0,\n",
    "         'Attchd': 1,\n",
    "         'Basment': 2,\n",
    "         'BuiltIn': 3,\n",
    "         'CarPort': 4,\n",
    "         'Detchd': 5,\n",
    "         6: 6}).astype(int)\n",
    "    \n",
    "    org_house_df = org_house_df.fillna({'GarageQual' : 5}) \n",
    "    house_df['GarageQual']=org_house_df['GarageQual'].map({'Ex': 0, 'Fa': 1, 'Gd': 2, 'Po': 3, 'TA': 4, 5: 5}).astype(int)\n",
    "    \n",
    "    org_house_df = org_house_df.fillna({'GarageCond' : 5}) \n",
    "    house_df['GarageQual']=org_house_df['GarageQual'].map({'Ex': 0, 'Fa': 1, 'Gd': 2, 'Po': 3, 'TA': 4, 5: 5}).astype(int)\n",
    "    \n",
    "    org_house_df = org_house_df.fillna({'Fence' : 4}) \n",
    "    house_df['Fence']=org_house_df['Fence'].map({'GdPrv': 0, 'GdWo': 1, 'MnPrv': 2, 'MnWw': 3, 4: 4}).astype(int)\n",
    "    \n",
    "    house_df['OverallCond']=org_house_df['OverallCond']\n",
    "    house_df['OverallQual']=org_house_df['OverallQual']\n",
    "    \n",
    "    return house_df\n",
    " "
   ]
  },
  {
   "cell_type": "code",
   "execution_count": 42,
   "metadata": {
    "collapsed": true
   },
   "outputs": [],
   "source": [
    "house_df = pre_process(org_house_df)"
   ]
  },
  {
   "cell_type": "code",
   "execution_count": 43,
   "metadata": {
    "collapsed": true
   },
   "outputs": [],
   "source": [
    "X_train, X_test, y_train, y_test = train_test_split(house_df, org_house_df['SalePrice'], test_size=0.4, random_state=1)"
   ]
  },
  {
   "cell_type": "code",
   "execution_count": 44,
   "metadata": {
    "collapsed": true
   },
   "outputs": [],
   "source": [
    "model = LinearRegression() #重回帰分析"
   ]
  },
  {
   "cell_type": "code",
   "execution_count": 45,
   "metadata": {},
   "outputs": [
    {
     "data": {
      "text/plain": [
       "LinearRegression(copy_X=True, fit_intercept=True, n_jobs=1, normalize=False)"
      ]
     },
     "execution_count": 45,
     "metadata": {},
     "output_type": "execute_result"
    }
   ],
   "source": [
    "model.fit(X_train, y_train)"
   ]
  },
  {
   "cell_type": "code",
   "execution_count": 46,
   "metadata": {},
   "outputs": [
    {
     "data": {
      "text/plain": [
       "0.7393271331649109"
      ]
     },
     "execution_count": 46,
     "metadata": {},
     "output_type": "execute_result"
    }
   ],
   "source": [
    "model.score(X_test, y_test) #予測精度　決定係数"
   ]
  },
  {
   "cell_type": "code",
   "execution_count": 47,
   "metadata": {},
   "outputs": [
    {
     "data": {
      "text/plain": [
       "0.7391950095491651"
      ]
     },
     "execution_count": 47,
     "metadata": {},
     "output_type": "execute_result"
    }
   ],
   "source": [
    "model.score(X_train, y_train)"
   ]
  },
  {
   "cell_type": "code",
   "execution_count": 48,
   "metadata": {},
   "outputs": [
    {
     "data": {
      "text/plain": [
       "['model_20190101.pkl']"
      ]
     },
     "execution_count": 48,
     "metadata": {},
     "output_type": "execute_result"
    }
   ],
   "source": [
    "joblib.dump(model, 'model_20190101.pkl')"
   ]
  },
  {
   "cell_type": "code",
   "execution_count": 49,
   "metadata": {
    "collapsed": true
   },
   "outputs": [],
   "source": [
    "predict_house_df = pd.read_csv('test.csv')"
   ]
  },
  {
   "cell_type": "code",
   "execution_count": 50,
   "metadata": {},
   "outputs": [],
   "source": [
    "X_predict = pre_process(predict_house_df)"
   ]
  },
  {
   "cell_type": "code",
   "execution_count": 52,
   "metadata": {
    "collapsed": true
   },
   "outputs": [],
   "source": [
    "sale_price = []"
   ]
  },
  {
   "cell_type": "code",
   "execution_count": 74,
   "metadata": {},
   "outputs": [],
   "source": [
    "#for x in X_predict:\n",
    "y_predict = model.predict(X_predict)"
   ]
  },
  {
   "cell_type": "code",
   "execution_count": 75,
   "metadata": {
    "collapsed": true
   },
   "outputs": [],
   "source": [
    "output_df = pd.DataFrame()"
   ]
  },
  {
   "cell_type": "code",
   "execution_count": 77,
   "metadata": {},
   "outputs": [],
   "source": [
    "output_df['Id'] = predict_house_df['Id']\n",
    "output_df['SalePrice'] = np.array(y_predict)"
   ]
  },
  {
   "cell_type": "code",
   "execution_count": 78,
   "metadata": {},
   "outputs": [
    {
     "data": {
      "text/html": [
       "<div>\n",
       "<style>\n",
       "    .dataframe thead tr:only-child th {\n",
       "        text-align: right;\n",
       "    }\n",
       "\n",
       "    .dataframe thead th {\n",
       "        text-align: left;\n",
       "    }\n",
       "\n",
       "    .dataframe tbody tr th {\n",
       "        vertical-align: top;\n",
       "    }\n",
       "</style>\n",
       "<table border=\"1\" class=\"dataframe\">\n",
       "  <thead>\n",
       "    <tr style=\"text-align: right;\">\n",
       "      <th></th>\n",
       "      <th>Id</th>\n",
       "      <th>SalePrice</th>\n",
       "    </tr>\n",
       "  </thead>\n",
       "  <tbody>\n",
       "    <tr>\n",
       "      <th>0</th>\n",
       "      <td>1461</td>\n",
       "      <td>124848.343888</td>\n",
       "    </tr>\n",
       "    <tr>\n",
       "      <th>1</th>\n",
       "      <td>1462</td>\n",
       "      <td>175920.209195</td>\n",
       "    </tr>\n",
       "    <tr>\n",
       "      <th>2</th>\n",
       "      <td>1463</td>\n",
       "      <td>139429.616232</td>\n",
       "    </tr>\n",
       "    <tr>\n",
       "      <th>3</th>\n",
       "      <td>1464</td>\n",
       "      <td>207622.962883</td>\n",
       "    </tr>\n",
       "    <tr>\n",
       "      <th>4</th>\n",
       "      <td>1465</td>\n",
       "      <td>202443.318332</td>\n",
       "    </tr>\n",
       "  </tbody>\n",
       "</table>\n",
       "</div>"
      ],
      "text/plain": [
       "     Id      SalePrice\n",
       "0  1461  124848.343888\n",
       "1  1462  175920.209195\n",
       "2  1463  139429.616232\n",
       "3  1464  207622.962883\n",
       "4  1465  202443.318332"
      ]
     },
     "execution_count": 78,
     "metadata": {},
     "output_type": "execute_result"
    }
   ],
   "source": [
    "output_df.head()"
   ]
  },
  {
   "cell_type": "code",
   "execution_count": 80,
   "metadata": {},
   "outputs": [],
   "source": [
    "output_df.to_csv('predict_20190101.csv')"
   ]
  },
  {
   "cell_type": "code",
   "execution_count": null,
   "metadata": {
    "collapsed": true
   },
   "outputs": [],
   "source": []
  }
 ],
 "metadata": {
  "kernelspec": {
   "display_name": "Python 3",
   "language": "python",
   "name": "python3"
  },
  "language_info": {
   "codemirror_mode": {
    "name": "ipython",
    "version": 3
   },
   "file_extension": ".py",
   "mimetype": "text/x-python",
   "name": "python",
   "nbconvert_exporter": "python",
   "pygments_lexer": "ipython3",
   "version": "3.6.1"
  }
 },
 "nbformat": 4,
 "nbformat_minor": 2
}

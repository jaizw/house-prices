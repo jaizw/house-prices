{
 "cells": [
  {
   "cell_type": "code",
   "execution_count": 50,
   "metadata": {
    "collapsed": true
   },
   "outputs": [],
   "source": [
    "import pandas as pd\n",
    "from pandas import Series,DataFrame\n",
    "\n",
    "import numpy as np\n",
    "import matplotlib as mpl\n",
    "import matplotlib.pyplot as plt\n",
    "import seaborn as sns\n",
    "%matplotlib inline"
   ]
  },
  {
   "cell_type": "code",
   "execution_count": 91,
   "metadata": {
    "collapsed": true
   },
   "outputs": [],
   "source": [
    "def pre_process(org_house_df):\n",
    "    \n",
    "    house_df = pd.DataFrame()\n",
    "    \n",
    "    org_house_df = org_house_df.fillna({'MSZoning' : 'RL'}) \n",
    "    house_df['MSZoning']= org_house_df['MSZoning'].map({'C (all)': 0, 'FV': 1, 'RH': 2, 'RL': 3, 'RM': 4}).astype(int)\n",
    "    house_df['LandContour']= org_house_df['LandContour'].map({'Bnk': 0, 'HLS': 1, 'Low': 2, 'Lvl': 3}).astype(int)\n",
    "    house_df['Condition1']= org_house_df['Condition1'].map({'Artery': 0,\n",
    "         'Feedr': 1,\n",
    "         'Norm': 2,\n",
    "         'PosA': 3,\n",
    "         'PosN': 4,\n",
    "         'RRAe': 5,\n",
    "         'RRAn': 6,\n",
    "         'RRNe': 7,\n",
    "         'RRNn': 8}).astype(int)\n",
    "    house_df['Condition2']= org_house_df['Condition2'].map({'Artery': 0,\n",
    "         'Feedr': 1,\n",
    "         'Norm': 2,\n",
    "         'PosA': 3,\n",
    "         'PosN': 4,\n",
    "         'RRAe': 5,\n",
    "         'RRAn': 6,\n",
    "         'RRNn': 7}).astype(int)\n",
    "    house_df['Neighborhood']= org_house_df['Neighborhood'].map({'Blmngtn': 0,\n",
    "         'Blueste': 1,\n",
    "         'BrDale': 2,\n",
    "         'BrkSide': 3,\n",
    "         'ClearCr': 4,\n",
    "         'CollgCr': 5,\n",
    "         'Crawfor': 6,\n",
    "         'Edwards': 7,\n",
    "         'Gilbert': 8,\n",
    "         'IDOTRR': 9,\n",
    "         'MeadowV': 10,\n",
    "         'Mitchel': 11,\n",
    "         'NAmes': 12,\n",
    "         'NPkVill': 13,\n",
    "         'NWAmes': 14,\n",
    "         'NoRidge': 15,\n",
    "         'NridgHt': 16,\n",
    "         'OldTown': 17,\n",
    "         'SWISU': 18,\n",
    "         'Sawyer': 19,\n",
    "         'SawyerW': 20,\n",
    "         'Somerst': 21,\n",
    "         'StoneBr': 22,\n",
    "         'Timber': 23,\n",
    "         'Veenker': 24}).astype(int)\n",
    "    house_df['BldgType']= org_house_df['BldgType'].map({'1Fam': 0, '2fmCon': 1, 'Duplex': 2, 'Twnhs': 3, 'TwnhsE': 4}).astype(int)\n",
    "    \n",
    "    house_df['1stFlrSF'] = org_house_df['1stFlrSF']\n",
    "    house_df['2ndFlrSF'] = org_house_df['2ndFlrSF']\n",
    "    \n",
    "    org_house_df = org_house_df.fillna({'TotalBsmtSF' : 991}) \n",
    "    house_df['TotalBsmtSF'] = org_house_df['TotalBsmtSF']\n",
    "    \n",
    "    house_df['FlrSF'] = org_house_df['1stFlrSF'] + org_house_df['2ndFlrSF']\n",
    "    house_df['TotalSF'] = house_df['TotalBsmtSF'] + house_df['FlrSF']\n",
    "    \n",
    "    house_df['GrLivArea'] = org_house_df['GrLivArea']\n",
    "    \n",
    "    house_df['HeatingQC']= org_house_df['HeatingQC'].map({'Ex': 0, 'Fa': 1, 'Gd': 2, 'Po': 3, 'TA': 4}).astype(int)\n",
    "    house_df['BedroomAbvGr']= org_house_df['BedroomAbvGr']\n",
    "    \n",
    "    org_house_df = org_house_df.fillna({'KitchenQual' : 'TA'}) \n",
    "    house_df['KitchenQual']= org_house_df['KitchenQual'].map({'Ex': 0, 'Fa': 1, 'Gd': 2, 'TA': 3}).astype(int)\n",
    "    \n",
    "    house_df['TotRmsAbvGrd']= org_house_df['TotRmsAbvGrd']\n",
    "    house_df['Fireplaces']= org_house_df['Fireplaces']\n",
    "    \n",
    "    org_house_df = org_house_df.fillna({'FireplaceQu' : 'Gd'}) \n",
    "    house_df['FireplaceQu']=org_house_df['FireplaceQu'].map({ 'Ex': 0, 'Fa': 1, 'Gd': 2, 'Po': 3, 'TA': 4}).astype(int)\n",
    "    \n",
    "    org_house_df = org_house_df.fillna({'GarageType' : 'Attchd'}) \n",
    "    house_df['GarageType']=org_house_df['GarageType'].map({'2Types': 0,\n",
    "         'Attchd': 1,\n",
    "         'Basment': 2,\n",
    "         'BuiltIn': 3,\n",
    "         'CarPort': 4,\n",
    "         'Detchd': 5}).astype(int)\n",
    "    \n",
    "    org_house_df = org_house_df.fillna({'GarageCars' : 2}) \n",
    "    house_df['GarageCars']= org_house_df['GarageCars']\n",
    "    \n",
    "    org_house_df = org_house_df.fillna({'GarageQual' : 'TA'}) \n",
    "    house_df['GarageQual']=org_house_df['GarageQual'].map({'Ex': 0, 'Fa': 1, 'Gd': 2, 'Po': 3, 'TA': 4}).astype(int)\n",
    "    \n",
    "    org_house_df = org_house_df.fillna({'GarageCond' : 'TA'}) \n",
    "    house_df['GarageCond']=org_house_df['GarageCond'].map({'Ex': 0, 'Fa': 1, 'Gd': 2, 'Po': 3, 'TA': 4}).astype(int)\n",
    "    \n",
    "    house_df['OverallCond']=org_house_df['OverallCond']\n",
    "    house_df['OverallQual']=org_house_df['OverallQual']\n",
    "    \n",
    "    house_df['HouseAge'] = org_house_df['YrSold'] - org_house_df['YearRemodAdd']\n",
    "    #house_df['GarageAge'] = org_house_df['YrSold'] - org_house_df['GarageYrBlt']\n",
    "    house_df['IsRebuild'] = org_house_df['YearRemodAdd'] - org_house_df['YearBuilt']\n",
    "    house_df['IsRebuild'].loc[house_df['IsRebuild']>0] = 1 \n",
    "    \n",
    "    return house_df\n",
    " "
   ]
  },
  {
   "cell_type": "code",
   "execution_count": 92,
   "metadata": {
    "collapsed": true
   },
   "outputs": [],
   "source": [
    "org_house_df = pd.read_csv('train.csv')"
   ]
  },
  {
   "cell_type": "code",
   "execution_count": 93,
   "metadata": {},
   "outputs": [],
   "source": [
    "house_df = pre_process(org_house_df)\n",
    "house_df['SalePrice'] = org_house_df['SalePrice']"
   ]
  },
  {
   "cell_type": "code",
   "execution_count": 94,
   "metadata": {
    "collapsed": true
   },
   "outputs": [],
   "source": [
    "house_df = house_df.drop(house_df[(house_df['TotalSF']>5) & (house_df['SalePrice']<12.5)].index)\n",
    "house_df = house_df.drop(house_df[(house_df['GrLivArea']>5) & (house_df['SalePrice']<13)].index)"
   ]
  },
  {
   "cell_type": "code",
   "execution_count": 95,
   "metadata": {
    "collapsed": true
   },
   "outputs": [],
   "source": [
    "t = house_df['SalePrice'].values\n",
    "house_df = house_df.drop(['SalePrice'], axis=1)\n",
    "x = house_df.values"
   ]
  },
  {
   "cell_type": "code",
   "execution_count": 96,
   "metadata": {},
   "outputs": [
    {
     "data": {
      "text/plain": [
       "(1460, 26)"
      ]
     },
     "execution_count": 96,
     "metadata": {},
     "output_type": "execute_result"
    }
   ],
   "source": [
    "x.shape"
   ]
  },
  {
   "cell_type": "code",
   "execution_count": 97,
   "metadata": {
    "collapsed": true
   },
   "outputs": [],
   "source": [
    "t = t.astype('f')\n",
    "x = x.astype('f')"
   ]
  },
  {
   "cell_type": "code",
   "execution_count": 98,
   "metadata": {
    "collapsed": true
   },
   "outputs": [],
   "source": [
    "t = t.reshape(len(t), 1)"
   ]
  },
  {
   "cell_type": "code",
   "execution_count": 99,
   "metadata": {
    "collapsed": true
   },
   "outputs": [],
   "source": [
    "dataset = list(zip(x, t))"
   ]
  },
  {
   "cell_type": "code",
   "execution_count": 100,
   "metadata": {},
   "outputs": [],
   "source": [
    "import chainer\n",
    "import chainer.functions as F\n",
    "import chainer.links as L\n",
    "import chainer\n",
    "import cupy\n",
    "\n",
    "from chainer import training\n",
    "from chainer.training import extensions\n",
    "from chainer.optimizer import WeightDecay"
   ]
  },
  {
   "cell_type": "code",
   "execution_count": 101,
   "metadata": {
    "collapsed": true
   },
   "outputs": [],
   "source": [
    "n_train = int(len(dataset)*0.7)"
   ]
  },
  {
   "cell_type": "code",
   "execution_count": 102,
   "metadata": {
    "collapsed": true
   },
   "outputs": [],
   "source": [
    "train, test = chainer.datasets.split_dataset_random(dataset, n_train, seed=0)"
   ]
  },
  {
   "cell_type": "code",
   "execution_count": 103,
   "metadata": {
    "collapsed": true
   },
   "outputs": [],
   "source": [
    "class NN(chainer.Chain):\n",
    "    def __init__(self, n_out=1):\n",
    "        super().__init__()\n",
    "        with self.init_scope():\n",
    "            self.fc1 = L.Linear(None, 20)\n",
    "            self.fc2 = L.Linear(None, 20)\n",
    "            self.fc3 = L.Linear(None, 10)\n",
    "            self.fc4 = L.Linear(None, n_out)\n",
    "            \n",
    "            self.bn = L.BatchNormalization(26)\n",
    "        \n",
    "    def __call__(self, x):\n",
    "        h = self.bn(x)\n",
    "        h = self.fc1(h)\n",
    "        h = F.relu(h)\n",
    "        h = self.fc2(h)\n",
    "        h = F.relu(h)\n",
    "        h = self.fc3(h)\n",
    "        h = F.relu(h)\n",
    "        h = self.fc4(h)\n",
    "\n",
    "        return h"
   ]
  },
  {
   "cell_type": "code",
   "execution_count": 104,
   "metadata": {
    "collapsed": true
   },
   "outputs": [],
   "source": [
    "np.random.seed(0)\n",
    "nn = NN()\n",
    "model = L.Classifier(nn, lossfun=F.mean_squared_error)\n",
    "model.compute_accuracy = False\n",
    "optimizer = chainer.optimizers.Adam()\n",
    "optimizer.setup(model)\n",
    "batch_size = 16"
   ]
  },
  {
   "cell_type": "code",
   "execution_count": 105,
   "metadata": {
    "collapsed": true
   },
   "outputs": [],
   "source": [
    "train_iter = chainer.iterators.SerialIterator(train, batch_size)\n",
    "test_iter = chainer.iterators.SerialIterator(test, batch_size, repeat=False, shuffle=False)"
   ]
  },
  {
   "cell_type": "code",
   "execution_count": 106,
   "metadata": {
    "collapsed": true
   },
   "outputs": [],
   "source": [
    "updater = training.StandardUpdater(train_iter, optimizer, device=-1)"
   ]
  },
  {
   "cell_type": "code",
   "execution_count": 107,
   "metadata": {
    "collapsed": true
   },
   "outputs": [],
   "source": [
    "epoch = 200"
   ]
  },
  {
   "cell_type": "code",
   "execution_count": 108,
   "metadata": {
    "collapsed": true
   },
   "outputs": [],
   "source": [
    "trainer = training.Trainer(updater, (epoch, \"epoch\"), out=\"result/house_price\")\n",
    "\n",
    "trainer.extend(extensions.Evaluator(test_iter, model, device=-1))\n",
    "trainer.extend(extensions.LogReport(trigger=(1, \"epoch\")))\n",
    "trainer.extend(extensions.PrintReport([\"epoch\", \"main/loss\", \"validation/main/loss\"]))"
   ]
  },
  {
   "cell_type": "code",
   "execution_count": 109,
   "metadata": {},
   "outputs": [
    {
     "name": "stdout",
     "output_type": "stream",
     "text": [
      "epoch       main/loss   validation/main/loss\n",
      "\u001b[J1           4.01378e+10  3.6502e+10            \n",
      "\u001b[J2           4.0216e+10  3.64816e+10           \n",
      "\u001b[J3           4.01438e+10  3.63193e+10           \n",
      "\u001b[J4           3.96771e+10  3.55649e+10           \n",
      "\u001b[J5           3.78208e+10  3.2773e+10            \n",
      "\u001b[J6           3.3052e+10  2.60284e+10           \n",
      "\u001b[J7           2.35091e+10  1.50482e+10           \n",
      "\u001b[J8           1.14367e+10  5.05875e+09           \n",
      "\u001b[J9           4.39784e+09  2.60182e+09           \n",
      "\u001b[J10          2.95876e+09  1.75241e+09           \n",
      "\u001b[J11          2.54485e+09  1.7667e+09            \n",
      "\u001b[J12          2.57733e+09  1.60231e+09           \n",
      "\u001b[J13          2.24117e+09  1.52673e+09           \n",
      "\u001b[J14          2.19233e+09  1.50254e+09           \n",
      "\u001b[J15          2.15475e+09  1.50608e+09           \n",
      "\u001b[J16          2.09094e+09  1.38205e+09           \n",
      "\u001b[J17          2.127e+09   1.40226e+09           \n",
      "\u001b[J18          2.12759e+09  1.40476e+09           \n",
      "\u001b[J19          2.03103e+09  1.39412e+09           \n",
      "\u001b[J20          2.03478e+09  1.31697e+09           \n",
      "\u001b[J21          2.03897e+09  1.38566e+09           \n",
      "\u001b[J22          2.06466e+09  1.36883e+09           \n",
      "\u001b[J23          2.01011e+09  1.30715e+09           \n",
      "\u001b[J24          1.97638e+09  1.24941e+09           \n",
      "\u001b[J25          1.82979e+09  1.26041e+09           \n",
      "\u001b[J26          1.74992e+09  1.26189e+09           \n",
      "\u001b[J27          1.93481e+09  1.26789e+09           \n",
      "\u001b[J28          2.08097e+09  1.20147e+09           \n",
      "\u001b[J29          1.85327e+09  1.22652e+09           \n",
      "\u001b[J30          1.81827e+09  1.20165e+09           \n",
      "\u001b[J31          1.77069e+09  1.22857e+09           \n",
      "\u001b[J32          1.81554e+09  1.1974e+09            \n",
      "\u001b[J33          2.01796e+09  1.20464e+09           \n",
      "\u001b[J34          1.78872e+09  1.18511e+09           \n",
      "\u001b[J35          1.67942e+09  1.14461e+09           \n",
      "\u001b[J36          1.77369e+09  1.22298e+09           \n",
      "\u001b[J37          1.90383e+09  1.24429e+09           \n",
      "\u001b[J38          1.97919e+09  1.17562e+09           \n",
      "\u001b[J39          1.84936e+09  1.14432e+09           \n",
      "\u001b[J40          1.87257e+09  1.1355e+09            \n",
      "\u001b[J41          1.73853e+09  1.12556e+09           \n",
      "\u001b[J42          1.74021e+09  1.13225e+09           \n",
      "\u001b[J43          1.82847e+09  1.13372e+09           \n",
      "\u001b[J44          1.71573e+09  1.10907e+09           \n",
      "\u001b[J45          1.9336e+09  1.09657e+09           \n",
      "\u001b[J46          1.7595e+09  1.09437e+09           \n",
      "\u001b[J47          1.72783e+09  1.07673e+09           \n",
      "\u001b[J48          1.6257e+09  1.07594e+09           \n",
      "\u001b[J49          1.78694e+09  1.07276e+09           \n",
      "\u001b[J50          1.64931e+09  1.06906e+09           \n",
      "\u001b[J51          1.75214e+09  1.07842e+09           \n",
      "\u001b[J52          1.63243e+09  1.07195e+09           \n",
      "\u001b[J53          1.5875e+09  1.05892e+09           \n",
      "\u001b[J54          1.70018e+09  1.09802e+09           \n",
      "\u001b[J55          1.66408e+09  1.07595e+09           \n",
      "\u001b[J56          1.80939e+09  1.08979e+09           \n",
      "\u001b[J57          1.73715e+09  1.09553e+09           \n",
      "\u001b[J58          1.70423e+09  1.08238e+09           \n",
      "\u001b[J59          1.51346e+09  1.03098e+09           \n",
      "\u001b[J60          1.71412e+09  1.05635e+09           \n",
      "\u001b[J61          1.67979e+09  1.09794e+09           \n",
      "\u001b[J62          1.61466e+09  1.0064e+09            \n",
      "\u001b[J63          1.75603e+09  1.02681e+09           \n",
      "\u001b[J64          1.64346e+09  1.03321e+09           \n",
      "\u001b[J65          1.68542e+09  1.01916e+09           \n",
      "\u001b[J66          1.74478e+09  1.0787e+09            \n",
      "\u001b[J67          1.59081e+09  9.81611e+08           \n",
      "\u001b[J68          1.73656e+09  1.05488e+09           \n",
      "\u001b[J69          1.58906e+09  9.72659e+08           \n",
      "\u001b[J70          1.70611e+09  1.00513e+09           \n",
      "\u001b[J71          1.70724e+09  9.96845e+08           \n",
      "\u001b[J72          1.853e+09   1.007e+09             \n",
      "\u001b[J73          1.69285e+09  1.0095e+09            \n",
      "\u001b[J74          1.51629e+09  9.94395e+08           \n",
      "\u001b[J75          1.7345e+09  9.79221e+08           \n",
      "\u001b[J76          1.69553e+09  1.02604e+09           \n",
      "\u001b[J77          1.79357e+09  1.03984e+09           \n",
      "\u001b[J78          1.56547e+09  9.54917e+08           \n",
      "\u001b[J79          1.5873e+09  9.95647e+08           \n",
      "\u001b[J80          1.61371e+09  9.77252e+08           \n",
      "\u001b[J81          1.58706e+09  9.68853e+08           \n",
      "\u001b[J82          1.64685e+09  9.37233e+08           \n",
      "\u001b[J83          1.66072e+09  9.55531e+08           \n",
      "\u001b[J84          1.68807e+09  9.80411e+08           \n",
      "\u001b[J85          1.53103e+09  9.17764e+08           \n",
      "\u001b[J86          1.69989e+09  9.34942e+08           \n",
      "\u001b[J87          1.55826e+09  9.47364e+08           \n",
      "\u001b[J88          1.5073e+09  9.49757e+08           \n",
      "\u001b[J89          1.61728e+09  9.14392e+08           \n",
      "\u001b[J90          1.5201e+09  9.43629e+08           \n",
      "\u001b[J91          1.57999e+09  9.93248e+08           \n",
      "\u001b[J92          1.6487e+09  1.04645e+09           \n",
      "\u001b[J93          1.72396e+09  9.20441e+08           \n",
      "\u001b[J94          1.52542e+09  9.34842e+08           \n",
      "\u001b[J95          1.58897e+09  9.43236e+08           \n",
      "\u001b[J96          1.74648e+09  9.49402e+08           \n",
      "\u001b[J97          1.54896e+09  8.91572e+08           \n",
      "\u001b[J98          1.62848e+09  8.94639e+08           \n",
      "\u001b[J99          1.58572e+09  9.53084e+08           \n",
      "\u001b[J100         1.59611e+09  9.26696e+08           \n",
      "\u001b[J101         1.48535e+09  9.43738e+08           \n",
      "\u001b[J102         1.59583e+09  9.05726e+08           \n",
      "\u001b[J103         1.57535e+09  8.77837e+08           \n",
      "\u001b[J104         1.6383e+09  9.16021e+08           \n",
      "\u001b[J105         1.57993e+09  8.75847e+08           \n",
      "\u001b[J106         1.55694e+09  9.20617e+08           \n",
      "\u001b[J107         1.5902e+09  9.85849e+08           \n",
      "\u001b[J108         1.64608e+09  8.75032e+08           \n",
      "\u001b[J109         1.61619e+09  8.94783e+08           \n",
      "\u001b[J110         1.69489e+09  9.93423e+08           \n",
      "\u001b[J111         1.47088e+09  8.88571e+08           \n",
      "\u001b[J112         1.59936e+09  9.08754e+08           \n",
      "\u001b[J113         1.47643e+09  8.89479e+08           \n",
      "\u001b[J114         1.60533e+09  8.80222e+08           \n",
      "\u001b[J115         1.76376e+09  9.31774e+08           \n",
      "\u001b[J116         1.5489e+09  8.52327e+08           \n",
      "\u001b[J117         1.489e+09   8.76555e+08           \n",
      "\u001b[J118         1.63902e+09  9.47239e+08           \n",
      "\u001b[J119         1.70975e+09  9.14927e+08           \n",
      "\u001b[J120         1.45513e+09  8.47309e+08           \n",
      "\u001b[J121         1.68866e+09  9.91852e+08           \n",
      "\u001b[J122         1.60208e+09  1.02127e+09           \n",
      "\u001b[J123         1.43063e+09  8.63686e+08           \n",
      "\u001b[J124         1.61973e+09  8.3923e+08            \n",
      "\u001b[J125         1.52176e+09  8.6724e+08            \n",
      "\u001b[J126         1.52368e+09  9.27559e+08           \n",
      "\u001b[J127         1.57911e+09  8.63533e+08           \n",
      "\u001b[J128         1.59946e+09  8.54131e+08           \n",
      "\u001b[J129         1.652e+09   9.57666e+08           \n",
      "\u001b[J130         1.46931e+09  8.51699e+08           \n",
      "\u001b[J131         1.69836e+09  8.89861e+08           \n",
      "\u001b[J132         1.53436e+09  8.84779e+08           \n",
      "\u001b[J133         1.66782e+09  8.27968e+08           \n",
      "\u001b[J134         1.64132e+09  9.33564e+08           \n",
      "\u001b[J135         1.60239e+09  9.41234e+08           \n",
      "\u001b[J136         1.58455e+09  8.43504e+08           \n",
      "\u001b[J137         1.42001e+09  9.24117e+08           \n",
      "\u001b[J138         1.50917e+09  8.46534e+08           \n",
      "\u001b[J139         1.51808e+09  8.98797e+08           \n",
      "\u001b[J140         1.54342e+09  8.57173e+08           \n",
      "\u001b[J141         1.75439e+09  8.18125e+08           \n",
      "\u001b[J142         1.522e+09   8.06752e+08           \n",
      "\u001b[J143         1.43317e+09  8.51391e+08           \n",
      "\u001b[J144         1.43061e+09  8.58332e+08           \n",
      "\u001b[J145         1.57415e+09  8.56883e+08           \n",
      "\u001b[J146         1.49673e+09  8.93881e+08           \n",
      "\u001b[J147         1.56424e+09  9.26556e+08           \n",
      "\u001b[J148         1.52803e+09  8.29419e+08           \n",
      "\u001b[J149         1.54135e+09  8.36264e+08           \n",
      "\u001b[J150         1.47914e+09  8.48364e+08           \n",
      "\u001b[J151         1.67421e+09  8.02952e+08           \n",
      "\u001b[J152         1.60701e+09  8.54068e+08           \n",
      "\u001b[J153         1.55174e+09  8.3063e+08            \n",
      "\u001b[J154         1.4999e+09  7.79453e+08           \n",
      "\u001b[J155         1.51536e+09  8.14988e+08           \n",
      "\u001b[J156         1.5105e+09  9.90019e+08           \n",
      "\u001b[J157         1.52034e+09  8.05115e+08           \n",
      "\u001b[J158         1.47782e+09  7.85456e+08           \n",
      "\u001b[J159         1.45426e+09  8.15662e+08           \n",
      "\u001b[J160         1.54485e+09  8.07957e+08           \n",
      "\u001b[J161         1.41911e+09  8.34009e+08           \n"
     ]
    },
    {
     "name": "stdout",
     "output_type": "stream",
     "text": [
      "\u001b[J162         1.52136e+09  8.43681e+08           \n",
      "\u001b[J163         1.44987e+09  7.84462e+08           \n",
      "\u001b[J164         1.4866e+09  8.34202e+08           \n",
      "\u001b[J165         1.50602e+09  8.30816e+08           \n",
      "\u001b[J166         1.5057e+09  8.53757e+08           \n",
      "\u001b[J167         1.50791e+09  7.71965e+08           \n",
      "\u001b[J168         1.61993e+09  7.93079e+08           \n",
      "\u001b[J169         1.44848e+09  8.00386e+08           \n",
      "\u001b[J170         1.5233e+09  8.12267e+08           \n",
      "\u001b[J171         1.55015e+09  7.83114e+08           \n",
      "\u001b[J172         1.39547e+09  7.67447e+08           \n",
      "\u001b[J173         1.60812e+09  7.86626e+08           \n",
      "\u001b[J174         1.45044e+09  8.06571e+08           \n",
      "\u001b[J175         1.7157e+09  7.71724e+08           \n",
      "\u001b[J176         1.59518e+09  8.79172e+08           \n",
      "\u001b[J177         1.46814e+09  7.73104e+08           \n",
      "\u001b[J178         1.68878e+09  8.44633e+08           \n",
      "\u001b[J179         1.57456e+09  8.44861e+08           \n",
      "\u001b[J180         1.64133e+09  7.88584e+08           \n",
      "\u001b[J181         1.53965e+09  8.52616e+08           \n",
      "\u001b[J182         1.48111e+09  7.86685e+08           \n",
      "\u001b[J183         1.55037e+09  7.87258e+08           \n",
      "\u001b[J184         1.4825e+09  8.24685e+08           \n",
      "\u001b[J185         1.54314e+09  8.00086e+08           \n",
      "\u001b[J186         1.49755e+09  8.45305e+08           \n",
      "\u001b[J187         1.45892e+09  7.88484e+08           \n",
      "\u001b[J188         1.61522e+09  7.62926e+08           \n",
      "\u001b[J189         1.47385e+09  8.99678e+08           \n",
      "\u001b[J190         1.52212e+09  7.92994e+08           \n",
      "\u001b[J191         1.49488e+09  7.98506e+08           \n",
      "\u001b[J192         1.56001e+09  8.98157e+08           \n",
      "\u001b[J193         1.53367e+09  8.2603e+08            \n",
      "\u001b[J194         1.42602e+09  8.806e+08             \n",
      "\u001b[J195         1.53617e+09  7.84594e+08           \n",
      "\u001b[J196         1.59437e+09  7.61852e+08           \n",
      "\u001b[J197         1.58659e+09  7.88307e+08           \n",
      "\u001b[J198         1.60394e+09  7.81589e+08           \n",
      "\u001b[J199         1.59105e+09  8.35548e+08           \n",
      "\u001b[J200         1.66691e+09  7.89465e+08           \n"
     ]
    }
   ],
   "source": [
    "trainer.run()"
   ]
  },
  {
   "cell_type": "code",
   "execution_count": 110,
   "metadata": {
    "collapsed": true
   },
   "outputs": [],
   "source": [
    "import json"
   ]
  },
  {
   "cell_type": "code",
   "execution_count": 111,
   "metadata": {
    "collapsed": true
   },
   "outputs": [],
   "source": [
    "with open(\"result/house_price/log\") as f:\n",
    "    logs = json.load(f)"
   ]
  },
  {
   "cell_type": "code",
   "execution_count": 112,
   "metadata": {
    "collapsed": true
   },
   "outputs": [],
   "source": [
    "results = pd.DataFrame(logs)"
   ]
  },
  {
   "cell_type": "code",
   "execution_count": 113,
   "metadata": {},
   "outputs": [
    {
     "data": {
      "text/plain": [
       "<matplotlib.axes._subplots.AxesSubplot at 0x7f9dc4362630>"
      ]
     },
     "execution_count": 113,
     "metadata": {},
     "output_type": "execute_result"
    },
    {
     "data": {
      "image/png": "[encoded data removed]",
      "text/plain": [
       "<matplotlib.figure.Figure at 0x7f9dc44d5c88>"
      ]
     },
     "metadata": {},
     "output_type": "display_data"
    }
   ],
   "source": [
    "results[[\"main/loss\", \"validation/main/loss\"]].plot()"
   ]
  },
  {
   "cell_type": "code",
   "execution_count": 114,
   "metadata": {
    "collapsed": true
   },
   "outputs": [],
   "source": [
    "chainer.serializers.save_npz(\"models/house_price_4.npz\", model)"
   ]
  },
  {
   "cell_type": "code",
   "execution_count": 115,
   "metadata": {
    "collapsed": true
   },
   "outputs": [],
   "source": [
    "test_house_df = pd.read_csv('test.csv')"
   ]
  },
  {
   "cell_type": "code",
   "execution_count": 116,
   "metadata": {},
   "outputs": [
    {
     "name": "stderr",
     "output_type": "stream",
     "text": [
      "/usr/local/pyenv/versions/anaconda3-4.4.0/lib/python3.6/site-packages/pandas/core/indexing.py:179: SettingWithCopyWarning: \n",
      "A value is trying to be set on a copy of a slice from a DataFrame\n",
      "\n",
      "See the caveats in the documentation: http://pandas.pydata.org/pandas-docs/stable/indexing.html#indexing-view-versus-copy\n",
      "  self._setitem_with_indexer(indexer, value)\n"
     ]
    }
   ],
   "source": [
    "predict_df = pre_process(test_house_df)"
   ]
  },
  {
   "cell_type": "code",
   "execution_count": 117,
   "metadata": {
    "collapsed": true
   },
   "outputs": [],
   "source": [
    "x = predict_df.values"
   ]
  },
  {
   "cell_type": "code",
   "execution_count": 118,
   "metadata": {
    "collapsed": true
   },
   "outputs": [],
   "source": [
    "x = x.astype('f')"
   ]
  },
  {
   "cell_type": "code",
   "execution_count": 119,
   "metadata": {
    "collapsed": true
   },
   "outputs": [],
   "source": [
    "sale_prices = []"
   ]
  },
  {
   "cell_type": "code",
   "execution_count": 120,
   "metadata": {},
   "outputs": [],
   "source": [
    "with chainer.using_config('train', False), chainer.using_config('enable_backprop', False):\n",
    "    for i, x_ in enumerate(x):\n",
    "        x_new = x_\n",
    "        x_new = x_new[np.newaxis]\n",
    "        y = model.predictor(x_new)\n",
    "        sale_prices.append(y.data)"
   ]
  },
  {
   "cell_type": "code",
   "execution_count": 121,
   "metadata": {
    "collapsed": true
   },
   "outputs": [],
   "source": [
    "output_df = pd.DataFrame()"
   ]
  },
  {
   "cell_type": "code",
   "execution_count": 122,
   "metadata": {
    "collapsed": true
   },
   "outputs": [],
   "source": [
    "sale_prices = np.reshape(sale_prices, 1459)"
   ]
  },
  {
   "cell_type": "code",
   "execution_count": 123,
   "metadata": {
    "collapsed": true
   },
   "outputs": [],
   "source": [
    "output_df['Id'] = test_house_df['Id']\n",
    "output_df['SalePrice'] = np.array(sale_prices)"
   ]
  },
  {
   "cell_type": "code",
   "execution_count": 124,
   "metadata": {},
   "outputs": [
    {
     "data": {
      "text/html": [
       "<div>\n",
       "<style>\n",
       "    .dataframe thead tr:only-child th {\n",
       "        text-align: right;\n",
       "    }\n",
       "\n",
       "    .dataframe thead th {\n",
       "        text-align: left;\n",
       "    }\n",
       "\n",
       "    .dataframe tbody tr th {\n",
       "        vertical-align: top;\n",
       "    }\n",
       "</style>\n",
       "<table border=\"1\" class=\"dataframe\">\n",
       "  <thead>\n",
       "    <tr style=\"text-align: right;\">\n",
       "      <th></th>\n",
       "      <th>Id</th>\n",
       "      <th>SalePrice</th>\n",
       "    </tr>\n",
       "  </thead>\n",
       "  <tbody>\n",
       "    <tr>\n",
       "      <th>0</th>\n",
       "      <td>1461</td>\n",
       "      <td>125388.171875</td>\n",
       "    </tr>\n",
       "    <tr>\n",
       "      <th>1</th>\n",
       "      <td>1462</td>\n",
       "      <td>149933.421875</td>\n",
       "    </tr>\n",
       "    <tr>\n",
       "      <th>2</th>\n",
       "      <td>1463</td>\n",
       "      <td>160615.046875</td>\n",
       "    </tr>\n",
       "    <tr>\n",
       "      <th>3</th>\n",
       "      <td>1464</td>\n",
       "      <td>192970.500000</td>\n",
       "    </tr>\n",
       "    <tr>\n",
       "      <th>4</th>\n",
       "      <td>1465</td>\n",
       "      <td>194144.546875</td>\n",
       "    </tr>\n",
       "  </tbody>\n",
       "</table>\n",
       "</div>"
      ],
      "text/plain": [
       "     Id      SalePrice\n",
       "0  1461  125388.171875\n",
       "1  1462  149933.421875\n",
       "2  1463  160615.046875\n",
       "3  1464  192970.500000\n",
       "4  1465  194144.546875"
      ]
     },
     "execution_count": 124,
     "metadata": {},
     "output_type": "execute_result"
    }
   ],
   "source": [
    "output_df.head()"
   ]
  },
  {
   "cell_type": "code",
   "execution_count": 126,
   "metadata": {
    "collapsed": true
   },
   "outputs": [],
   "source": [
    "output_df.to_csv('predict_20190116_2.csv')"
   ]
  },
  {
   "cell_type": "code",
   "execution_count": null,
   "metadata": {
    "collapsed": true
   },
   "outputs": [],
   "source": []
  }
 ],
 "metadata": {
  "kernelspec": {
   "display_name": "Python 3",
   "language": "python",
   "name": "python3"
  },
  "language_info": {
   "codemirror_mode": {
    "name": "ipython",
    "version": 3
   },
   "file_extension": ".py",
   "mimetype": "text/x-python",
   "name": "python",
   "nbconvert_exporter": "python",
   "pygments_lexer": "ipython3",
   "version": "3.6.1"
  }
 },
 "nbformat": 4,
 "nbformat_minor": 2
}

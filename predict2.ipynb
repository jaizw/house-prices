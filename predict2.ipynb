{
 "cells": [
  {
   "cell_type": "code",
   "execution_count": 1,
   "metadata": {
    "collapsed": true
   },
   "outputs": [],
   "source": [
    "import pandas as pd\n",
    "from pandas import Series,DataFrame\n",
    "\n",
    "import numpy as np\n",
    "import matplotlib as mpl\n",
    "import matplotlib.pyplot as plt\n",
    "import seaborn as sns\n",
    "%matplotlib inline"
   ]
  },
  {
   "cell_type": "code",
   "execution_count": 2,
   "metadata": {
    "collapsed": true
   },
   "outputs": [],
   "source": [
    "def pre_process(org_house_df):\n",
    "    \n",
    "    house_df = pd.DataFrame()\n",
    "    \n",
    "    org_house_df = org_house_df.fillna({'MSZoning' : 'RL'}) \n",
    "    house_df['MSZoning']= org_house_df['MSZoning'].map({'C (all)': 0, 'FV': 1, 'RH': 2, 'RL': 3, 'RM': 4}).astype(int)\n",
    "    house_df['LandContour']= org_house_df['LandContour'].map({'Bnk': 0, 'HLS': 1, 'Low': 2, 'Lvl': 3}).astype(int)\n",
    "    house_df['Condition1']= org_house_df['Condition1'].map({'Artery': 0,\n",
    "         'Feedr': 1,\n",
    "         'Norm': 2,\n",
    "         'PosA': 3,\n",
    "         'PosN': 4,\n",
    "         'RRAe': 5,\n",
    "         'RRAn': 6,\n",
    "         'RRNe': 7,\n",
    "         'RRNn': 8}).astype(int)\n",
    "    house_df['Condition2']= org_house_df['Condition2'].map({'Artery': 0,\n",
    "         'Feedr': 1,\n",
    "         'Norm': 2,\n",
    "         'PosA': 3,\n",
    "         'PosN': 4,\n",
    "         'RRAe': 5,\n",
    "         'RRAn': 6,\n",
    "         'RRNn': 7}).astype(int)\n",
    "    house_df['Neighborhood']= org_house_df['Neighborhood'].map({'Blmngtn': 0,\n",
    "         'Blueste': 1,\n",
    "         'BrDale': 2,\n",
    "         'BrkSide': 3,\n",
    "         'ClearCr': 4,\n",
    "         'CollgCr': 5,\n",
    "         'Crawfor': 6,\n",
    "         'Edwards': 7,\n",
    "         'Gilbert': 8,\n",
    "         'IDOTRR': 9,\n",
    "         'MeadowV': 10,\n",
    "         'Mitchel': 11,\n",
    "         'NAmes': 12,\n",
    "         'NPkVill': 13,\n",
    "         'NWAmes': 14,\n",
    "         'NoRidge': 15,\n",
    "         'NridgHt': 16,\n",
    "         'OldTown': 17,\n",
    "         'SWISU': 18,\n",
    "         'Sawyer': 19,\n",
    "         'SawyerW': 20,\n",
    "         'Somerst': 21,\n",
    "         'StoneBr': 22,\n",
    "         'Timber': 23,\n",
    "         'Veenker': 24}).astype(int)\n",
    "    house_df['BldgType']= org_house_df['BldgType'].map({'1Fam': 0, '2fmCon': 1, 'Duplex': 2, 'Twnhs': 3, 'TwnhsE': 4}).astype(int)\n",
    "    \n",
    "    house_df['TotalBsmtSF'] = org_house_df['TotalBsmtSF']\n",
    "    house_df['FlrSF'] = org_house_df['1stFlrSF'] + org_house_df['2ndFlrSF']\n",
    "    house_df['GrLivArea'] = org_house_df['GrLivArea']\n",
    "    \n",
    "    house_df['HeatingQC']= org_house_df['HeatingQC'].map({'Ex': 0, 'Fa': 1, 'Gd': 2, 'Po': 3, 'TA': 4}).astype(int)\n",
    "    house_df['BedroomAbvGr']= org_house_df['BedroomAbvGr']\n",
    "    \n",
    "    org_house_df = org_house_df.fillna({'KitchenQual' : 'TA'}) \n",
    "    house_df['KitchenQual']= org_house_df['KitchenQual'].map({'Ex': 0, 'Fa': 1, 'Gd': 2, 'TA': 3}).astype(int)\n",
    "    \n",
    "    house_df['TotRmsAbvGrd']= org_house_df['TotRmsAbvGrd']\n",
    "    house_df['Fireplaces']= org_house_df['Fireplaces']\n",
    "    \n",
    "    org_house_df = org_house_df.fillna({'FireplaceQu' : 'Gd'}) \n",
    "    house_df['FireplaceQu']=org_house_df['FireplaceQu'].map({ 'Ex': 0, 'Fa': 1, 'Gd': 2, 'Po': 3, 'TA': 4}).astype(int)\n",
    "    \n",
    "    org_house_df = org_house_df.fillna({'GarageType' : 'Attchd'}) \n",
    "    house_df['GarageType']=org_house_df['GarageType'].map({'2Types': 0,\n",
    "         'Attchd': 1,\n",
    "         'Basment': 2,\n",
    "         'BuiltIn': 3,\n",
    "         'CarPort': 4,\n",
    "         'Detchd': 5}).astype(int)\n",
    "    \n",
    "    org_house_df = org_house_df.fillna({'GarageQual' : 'TA'}) \n",
    "    house_df['GarageQual']=org_house_df['GarageQual'].map({'Ex': 0, 'Fa': 1, 'Gd': 2, 'Po': 3, 'TA': 4}).astype(int)\n",
    "    \n",
    "    org_house_df = org_house_df.fillna({'GarageCond' : 'TA'}) \n",
    "    house_df['GarageQual']=org_house_df['GarageQual'].map({'Ex': 0, 'Fa': 1, 'Gd': 2, 'Po': 3, 'TA': 4}).astype(int)\n",
    "    \n",
    "    house_df['OverallCond']=org_house_df['OverallCond']\n",
    "    house_df['OverallQual']=org_house_df['OverallQual']\n",
    "    \n",
    "    return house_df\n",
    " "
   ]
  },
  {
   "cell_type": "code",
   "execution_count": 3,
   "metadata": {
    "collapsed": true
   },
   "outputs": [],
   "source": [
    "org_house_df = pd.read_csv('train.csv')"
   ]
  },
  {
   "cell_type": "code",
   "execution_count": 4,
   "metadata": {
    "collapsed": true
   },
   "outputs": [],
   "source": [
    "house_df = pre_process(org_house_df)"
   ]
  },
  {
   "cell_type": "code",
   "execution_count": 5,
   "metadata": {
    "collapsed": true
   },
   "outputs": [],
   "source": [
    "t = org_house_df['SalePrice'].values\n",
    "x = house_df.values"
   ]
  },
  {
   "cell_type": "code",
   "execution_count": 6,
   "metadata": {
    "collapsed": true
   },
   "outputs": [],
   "source": [
    "t = t.astype('f')\n",
    "x = x.astype('f')"
   ]
  },
  {
   "cell_type": "code",
   "execution_count": 7,
   "metadata": {
    "collapsed": true
   },
   "outputs": [],
   "source": [
    "t = t.reshape(len(t), 1)"
   ]
  },
  {
   "cell_type": "code",
   "execution_count": 8,
   "metadata": {
    "collapsed": true
   },
   "outputs": [],
   "source": [
    "dataset = list(zip(x, t))"
   ]
  },
  {
   "cell_type": "code",
   "execution_count": 9,
   "metadata": {},
   "outputs": [
    {
     "name": "stderr",
     "output_type": "stream",
     "text": [
      "/usr/local/pyenv/versions/anaconda3-4.4.0/lib/python3.6/site-packages/h5py/__init__.py:34: FutureWarning: Conversion of the second argument of issubdtype from `float` to `np.floating` is deprecated. In future, it will be treated as `np.float64 == np.dtype(float).type`.\n",
      "  from ._conv import register_converters as _register_converters\n"
     ]
    }
   ],
   "source": [
    "import chainer\n",
    "import chainer.functions as F\n",
    "import chainer.links as L\n",
    "import chainer\n",
    "import cupy\n",
    "\n",
    "from chainer import training\n",
    "from chainer.training import extensions\n",
    "from chainer.optimizer import WeightDecay"
   ]
  },
  {
   "cell_type": "code",
   "execution_count": 10,
   "metadata": {
    "collapsed": true
   },
   "outputs": [],
   "source": [
    "n_train = int(len(dataset)*0.7)"
   ]
  },
  {
   "cell_type": "code",
   "execution_count": 11,
   "metadata": {
    "collapsed": true
   },
   "outputs": [],
   "source": [
    "train, test = chainer.datasets.split_dataset_random(dataset, n_train, seed=0)"
   ]
  },
  {
   "cell_type": "code",
   "execution_count": 19,
   "metadata": {
    "collapsed": true
   },
   "outputs": [],
   "source": [
    "class NN(chainer.Chain):\n",
    "    def __init__(self, n_mid_units1=10, n_mid_units2=5, n_out=1):\n",
    "        super().__init__()\n",
    "        with self.init_scope():\n",
    "            self.fc1 = L.Linear(None, n_mid_units1)\n",
    "            self.fc2 = L.Linear(None, n_mid_units2)\n",
    "            self.fc3 = L.Linear(None, n_out)\n",
    "            \n",
    "            self.bn = L.BatchNormalization(19)\n",
    "        \n",
    "    def __call__(self, x):\n",
    "        h = self.bn(x)\n",
    "        h = self.fc1(h)\n",
    "        h = F.relu(h)\n",
    "        h = self.fc2(h)\n",
    "        h = F.relu(h)\n",
    "        h = self.fc3(h)\n",
    "\n",
    "        return h"
   ]
  },
  {
   "cell_type": "code",
   "execution_count": 20,
   "metadata": {
    "collapsed": true
   },
   "outputs": [],
   "source": [
    "np.random.seed(0)\n",
    "nn = NN()\n",
    "model = L.Classifier(nn, lossfun=F.mean_squared_error)\n",
    "model.compute_accuracy = False\n",
    "optimizer = chainer.optimizers.Adam()\n",
    "optimizer.setup(model)\n",
    "batch_size = 10"
   ]
  },
  {
   "cell_type": "code",
   "execution_count": 21,
   "metadata": {
    "collapsed": true
   },
   "outputs": [],
   "source": [
    "train_iter = chainer.iterators.SerialIterator(train, batch_size)\n",
    "test_iter = chainer.iterators.SerialIterator(test, batch_size, repeat=False, shuffle=False)"
   ]
  },
  {
   "cell_type": "code",
   "execution_count": 22,
   "metadata": {
    "collapsed": true
   },
   "outputs": [],
   "source": [
    "updater = training.StandardUpdater(train_iter, optimizer, device=-1)"
   ]
  },
  {
   "cell_type": "code",
   "execution_count": 23,
   "metadata": {
    "collapsed": true
   },
   "outputs": [],
   "source": [
    "epoch = 100"
   ]
  },
  {
   "cell_type": "code",
   "execution_count": 24,
   "metadata": {
    "collapsed": true
   },
   "outputs": [],
   "source": [
    "trainer = training.Trainer(updater, (epoch, \"epoch\"), out=\"result/house_price\")\n",
    "\n",
    "trainer.extend(extensions.Evaluator(test_iter, model, device=-1))\n",
    "trainer.extend(extensions.LogReport(trigger=(1, \"epoch\")))\n",
    "trainer.extend(extensions.PrintReport([\"epoch\", \"main/loss\", \"validation/main/loss\"]))"
   ]
  },
  {
   "cell_type": "code",
   "execution_count": 25,
   "metadata": {},
   "outputs": [
    {
     "name": "stdout",
     "output_type": "stream",
     "text": [
      "epoch       main/loss   validation/main/loss\n",
      "\u001b[J1           4.02429e+10  3.6346e+10            \n",
      "\u001b[J2           4.0032e+10  3.63424e+10           \n",
      "\u001b[J3           4.02392e+10  3.63263e+10           \n",
      "\u001b[J4           4.02183e+10  3.62705e+10           \n",
      "\u001b[J5           3.9972e+10  3.61095e+10           \n",
      "\u001b[J6           3.97808e+10  3.58145e+10           \n",
      "\u001b[J7           3.93856e+10  3.52263e+10           \n",
      "\u001b[J8           3.86639e+10  3.43781e+10           \n",
      "\u001b[J9           3.75341e+10  3.32403e+10           \n",
      "\u001b[J10          3.60431e+10  3.15368e+10           \n",
      "\u001b[J11          3.44362e+10  2.95933e+10           \n",
      "\u001b[J12          3.12288e+10  2.68227e+10           \n",
      "\u001b[J13          2.88637e+10  2.43398e+10           \n",
      "\u001b[J14          2.56821e+10  2.13108e+10           \n",
      "\u001b[J15          2.21122e+10  1.74656e+10           \n",
      "\u001b[J16          1.86267e+10  1.4431e+10            \n",
      "\u001b[J17          1.52712e+10  1.16939e+10           \n",
      "\u001b[J18          1.21875e+10  9.85319e+09           \n",
      "\u001b[J19          9.26508e+09  6.85286e+09           \n",
      "\u001b[J20          7.05028e+09  4.28425e+09           \n",
      "\u001b[J21          5.35227e+09  3.4425e+09            \n",
      "\u001b[J22          4.3936e+09  3.11861e+09           \n",
      "\u001b[J23          3.23681e+09  1.97555e+09           \n",
      "\u001b[J24          3.00969e+09  1.98883e+09           \n",
      "\u001b[J25          2.68697e+09  1.72634e+09           \n",
      "\u001b[J26          2.51499e+09  1.64233e+09           \n",
      "\u001b[J27          2.55913e+09  1.6814e+09            \n",
      "\u001b[J28          2.46021e+09  1.90265e+09           \n",
      "\u001b[J29          2.55346e+09  1.57581e+09           \n",
      "\u001b[J30          2.46975e+09  1.59822e+09           \n",
      "\u001b[J31          2.44268e+09  1.67718e+09           \n",
      "\u001b[J32          2.37129e+09  1.71029e+09           \n",
      "\u001b[J33          2.27167e+09  1.51297e+09           \n",
      "\u001b[J34          2.30071e+09  1.53404e+09           \n",
      "\u001b[J35          2.42736e+09  1.53578e+09           \n",
      "\u001b[J36          2.6272e+09  1.70031e+09           \n",
      "\u001b[J37          2.23781e+09  1.48556e+09           \n",
      "\u001b[J38          2.37679e+09  1.54758e+09           \n",
      "\u001b[J39          2.42452e+09  1.4989e+09            \n",
      "\u001b[J40          2.38973e+09  1.45492e+09           \n",
      "\u001b[J41          2.33948e+09  1.43393e+09           \n",
      "\u001b[J42          2.34283e+09  1.41883e+09           \n",
      "\u001b[J43          2.20258e+09  1.47699e+09           \n",
      "\u001b[J44          2.38436e+09  1.62776e+09           \n",
      "\u001b[J45          2.30306e+09  1.41025e+09           \n",
      "\u001b[J46          2.25525e+09  1.36631e+09           \n",
      "\u001b[J47          2.26288e+09  1.36802e+09           \n",
      "\u001b[J48          2.41019e+09  1.55612e+09           \n",
      "\u001b[J49          2.13832e+09  1.42669e+09           \n",
      "\u001b[J50          2.0804e+09  1.36323e+09           \n",
      "\u001b[J51          2.28187e+09  1.40576e+09           \n",
      "\u001b[J52          2.10276e+09  1.42126e+09           \n",
      "\u001b[J53          2.29967e+09  1.39624e+09           \n",
      "\u001b[J54          2.17398e+09  1.46774e+09           \n",
      "\u001b[J55          2.17097e+09  1.46935e+09           \n",
      "\u001b[J56          2.0697e+09  1.42459e+09           \n",
      "\u001b[J57          2.12519e+09  1.4002e+09            \n",
      "\u001b[J58          2.27057e+09  1.31299e+09           \n",
      "\u001b[J59          2.26229e+09  1.32795e+09           \n",
      "\u001b[J60          2.23263e+09  1.41437e+09           \n",
      "\u001b[J61          2.23262e+09  1.42491e+09           \n",
      "\u001b[J62          2.07295e+09  1.34664e+09           \n",
      "\u001b[J63          2.12617e+09  1.33781e+09           \n",
      "\u001b[J64          2.1711e+09  1.40982e+09           \n",
      "\u001b[J65          2.06818e+09  1.3117e+09            \n",
      "\u001b[J66          2.06599e+09  1.32437e+09           \n",
      "\u001b[J67          2.14075e+09  1.28543e+09           \n",
      "\u001b[J68          2.06126e+09  1.28443e+09           \n",
      "\u001b[J69          1.99749e+09  1.2675e+09            \n",
      "\u001b[J70          2.24424e+09  1.36539e+09           \n",
      "\u001b[J71          2.21899e+09  1.39567e+09           \n",
      "\u001b[J72          2.13207e+09  1.35112e+09           \n",
      "\u001b[J73          2.11316e+09  1.25249e+09           \n",
      "\u001b[J74          2.25694e+09  1.28772e+09           \n",
      "\u001b[J75          2.24641e+09  1.34521e+09           \n",
      "\u001b[J76          2.17335e+09  1.2486e+09            \n",
      "\u001b[J77          2.15747e+09  1.37203e+09           \n",
      "\u001b[J78          2.007e+09   1.29048e+09           \n",
      "\u001b[J79          2.14295e+09  1.27005e+09           \n",
      "\u001b[J80          2.1148e+09  1.24907e+09           \n",
      "\u001b[J81          2.10578e+09  1.29983e+09           \n",
      "\u001b[J82          2.10082e+09  1.26535e+09           \n",
      "\u001b[J83          2.17158e+09  1.29823e+09           \n",
      "\u001b[J84          2.03589e+09  1.25999e+09           \n",
      "\u001b[J85          2.18462e+09  1.22905e+09           \n",
      "\u001b[J86          1.97037e+09  1.3644e+09            \n",
      "\u001b[J87          2.13937e+09  1.32965e+09           \n",
      "\u001b[J88          2.37487e+09  1.21383e+09           \n",
      "\u001b[J89          2.12415e+09  1.40386e+09           \n",
      "\u001b[J90          2.1587e+09  1.32435e+09           \n",
      "\u001b[J91          2.14386e+09  1.25898e+09           \n",
      "\u001b[J92          2.32008e+09  1.24809e+09           \n",
      "\u001b[J93          2.18051e+09  1.2838e+09            \n",
      "\u001b[J94          2.06615e+09  1.22737e+09           \n",
      "\u001b[J95          2.2505e+09  1.21635e+09           \n",
      "\u001b[J96          2.05725e+09  1.20503e+09           \n",
      "\u001b[J97          2.07505e+09  1.2002e+09            \n",
      "\u001b[J98          2.10563e+09  1.38261e+09           \n",
      "\u001b[J99          2.28037e+09  1.21456e+09           \n",
      "\u001b[J100         2.13529e+09  1.20173e+09           \n"
     ]
    }
   ],
   "source": [
    "trainer.run()"
   ]
  },
  {
   "cell_type": "code",
   "execution_count": 26,
   "metadata": {
    "collapsed": true
   },
   "outputs": [],
   "source": [
    "import json"
   ]
  },
  {
   "cell_type": "code",
   "execution_count": 27,
   "metadata": {
    "collapsed": true
   },
   "outputs": [],
   "source": [
    "with open(\"result/house_price/log\") as f:\n",
    "    logs = json.load(f)"
   ]
  },
  {
   "cell_type": "code",
   "execution_count": 28,
   "metadata": {
    "collapsed": true
   },
   "outputs": [],
   "source": [
    "results = pd.DataFrame(logs)"
   ]
  },
  {
   "cell_type": "code",
   "execution_count": 29,
   "metadata": {},
   "outputs": [
    {
     "data": {
      "text/plain": [
       "<matplotlib.axes._subplots.AxesSubplot at 0x7fa03c3faac8>"
      ]
     },
     "execution_count": 29,
     "metadata": {},
     "output_type": "execute_result"
    },
    {
     "data": {
      "image/png": "[encoded data removed]",
      "text/plain": [
       "<matplotlib.figure.Figure at 0x7fa03c36ac88>"
      ]
     },
     "metadata": {},
     "output_type": "display_data"
    }
   ],
   "source": [
    "results[[\"main/loss\", \"validation/main/loss\"]].plot()"
   ]
  },
  {
   "cell_type": "code",
   "execution_count": 57,
   "metadata": {
    "collapsed": true
   },
   "outputs": [],
   "source": [
    "chainer.serializers.save_npz(\"models/house_price_2.npz\", model)"
   ]
  },
  {
   "cell_type": "code",
   "execution_count": 58,
   "metadata": {
    "collapsed": true
   },
   "outputs": [],
   "source": [
    "test_house_df = pd.read_csv('test.csv')"
   ]
  },
  {
   "cell_type": "code",
   "execution_count": 59,
   "metadata": {
    "collapsed": true
   },
   "outputs": [],
   "source": [
    "predict_df = pre_process(test_house_df)"
   ]
  },
  {
   "cell_type": "code",
   "execution_count": 60,
   "metadata": {
    "collapsed": true
   },
   "outputs": [],
   "source": [
    "x = predict_df.values"
   ]
  },
  {
   "cell_type": "code",
   "execution_count": 61,
   "metadata": {
    "collapsed": true
   },
   "outputs": [],
   "source": [
    "x = x.astype('f')"
   ]
  },
  {
   "cell_type": "code",
   "execution_count": 62,
   "metadata": {
    "collapsed": true
   },
   "outputs": [],
   "source": [
    "sale_prices = []"
   ]
  },
  {
   "cell_type": "code",
   "execution_count": 63,
   "metadata": {
    "collapsed": true
   },
   "outputs": [],
   "source": [
    "with chainer.using_config('train', False), chainer.using_config('enable_backprop', False):\n",
    "    for i, x_ in enumerate(x):\n",
    "        x_new = x_\n",
    "        x_new = x_new[np.newaxis]\n",
    "        y = model.predictor(x_new)\n",
    "        sale_prices.append(y.data)"
   ]
  },
  {
   "cell_type": "code",
   "execution_count": 64,
   "metadata": {
    "collapsed": true
   },
   "outputs": [],
   "source": [
    "output_df = pd.DataFrame()"
   ]
  },
  {
   "cell_type": "code",
   "execution_count": 65,
   "metadata": {
    "collapsed": true
   },
   "outputs": [],
   "source": [
    "sale_prices = np.reshape(sale_prices, 1459)"
   ]
  },
  {
   "cell_type": "code",
   "execution_count": 66,
   "metadata": {},
   "outputs": [],
   "source": [
    "output_df['Id'] = test_house_df['Id']\n",
    "output_df['SalePrice'] = np.array(sale_prices)"
   ]
  },
  {
   "cell_type": "code",
   "execution_count": 67,
   "metadata": {},
   "outputs": [
    {
     "data": {
      "text/html": [
       "<div>\n",
       "<style>\n",
       "    .dataframe thead tr:only-child th {\n",
       "        text-align: right;\n",
       "    }\n",
       "\n",
       "    .dataframe thead th {\n",
       "        text-align: left;\n",
       "    }\n",
       "\n",
       "    .dataframe tbody tr th {\n",
       "        vertical-align: top;\n",
       "    }\n",
       "</style>\n",
       "<table border=\"1\" class=\"dataframe\">\n",
       "  <thead>\n",
       "    <tr style=\"text-align: right;\">\n",
       "      <th></th>\n",
       "      <th>Id</th>\n",
       "      <th>SalePrice</th>\n",
       "    </tr>\n",
       "  </thead>\n",
       "  <tbody>\n",
       "    <tr>\n",
       "      <th>0</th>\n",
       "      <td>1461</td>\n",
       "      <td>103956.750000</td>\n",
       "    </tr>\n",
       "    <tr>\n",
       "      <th>1</th>\n",
       "      <td>1462</td>\n",
       "      <td>172953.406250</td>\n",
       "    </tr>\n",
       "    <tr>\n",
       "      <th>2</th>\n",
       "      <td>1463</td>\n",
       "      <td>155139.531250</td>\n",
       "    </tr>\n",
       "    <tr>\n",
       "      <th>3</th>\n",
       "      <td>1464</td>\n",
       "      <td>196321.703125</td>\n",
       "    </tr>\n",
       "    <tr>\n",
       "      <th>4</th>\n",
       "      <td>1465</td>\n",
       "      <td>214238.359375</td>\n",
       "    </tr>\n",
       "  </tbody>\n",
       "</table>\n",
       "</div>"
      ],
      "text/plain": [
       "     Id      SalePrice\n",
       "0  1461  103956.750000\n",
       "1  1462  172953.406250\n",
       "2  1463  155139.531250\n",
       "3  1464  196321.703125\n",
       "4  1465  214238.359375"
      ]
     },
     "execution_count": 67,
     "metadata": {},
     "output_type": "execute_result"
    }
   ],
   "source": [
    "output_df.head()"
   ]
  },
  {
   "cell_type": "code",
   "execution_count": 68,
   "metadata": {
    "collapsed": true
   },
   "outputs": [],
   "source": [
    "output_df.to_csv('predict_20190109.csv')"
   ]
  },
  {
   "cell_type": "code",
   "execution_count": null,
   "metadata": {
    "collapsed": true
   },
   "outputs": [],
   "source": []
  }
 ],
 "metadata": {
  "kernelspec": {
   "display_name": "Python 3",
   "language": "python",
   "name": "python3"
  },
  "language_info": {
   "codemirror_mode": {
    "name": "ipython",
    "version": 3
   },
   "file_extension": ".py",
   "mimetype": "text/x-python",
   "name": "python",
   "nbconvert_exporter": "python",
   "pygments_lexer": "ipython3",
   "version": "3.6.1"
  }
 },
 "nbformat": 4,
 "nbformat_minor": 2
}

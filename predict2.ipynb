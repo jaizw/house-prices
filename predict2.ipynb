{
 "cells": [
  {
   "cell_type": "code",
   "execution_count": 1,
   "metadata": {
    "collapsed": true
   },
   "outputs": [],
   "source": [
    "import pandas as pd\n",
    "from pandas import Series,DataFrame\n",
    "\n",
    "import numpy as np\n",
    "import matplotlib as mpl\n",
    "import matplotlib.pyplot as plt\n",
    "import seaborn as sns\n",
    "%matplotlib inline"
   ]
  },
  {
   "cell_type": "code",
   "execution_count": 21,
   "metadata": {
    "collapsed": true
   },
   "outputs": [],
   "source": [
    "def pre_process(org_house_df):\n",
    "    \n",
    "    house_df = pd.DataFrame()\n",
    "    \n",
    "    org_house_df = org_house_df.fillna({'MSZoning' : 'RL'}) \n",
    "    house_df['MSZoning']= org_house_df['MSZoning'].map({'C (all)': 0, 'FV': 1, 'RH': 2, 'RL': 3, 'RM': 4}).astype(int)\n",
    "    house_df['LandContour']= org_house_df['LandContour'].map({'Bnk': 0, 'HLS': 1, 'Low': 2, 'Lvl': 3}).astype(int)\n",
    "    house_df['Condition1']= org_house_df['Condition1'].map({'Artery': 0,\n",
    "         'Feedr': 1,\n",
    "         'Norm': 2,\n",
    "         'PosA': 3,\n",
    "         'PosN': 4,\n",
    "         'RRAe': 5,\n",
    "         'RRAn': 6,\n",
    "         'RRNe': 7,\n",
    "         'RRNn': 8}).astype(int)\n",
    "    house_df['Condition2']= org_house_df['Condition2'].map({'Artery': 0,\n",
    "         'Feedr': 1,\n",
    "         'Norm': 2,\n",
    "         'PosA': 3,\n",
    "         'PosN': 4,\n",
    "         'RRAe': 5,\n",
    "         'RRAn': 6,\n",
    "         'RRNn': 7}).astype(int)\n",
    "    house_df['Neighborhood']= org_house_df['Neighborhood'].map({'Blmngtn': 0,\n",
    "         'Blueste': 1,\n",
    "         'BrDale': 2,\n",
    "         'BrkSide': 3,\n",
    "         'ClearCr': 4,\n",
    "         'CollgCr': 5,\n",
    "         'Crawfor': 6,\n",
    "         'Edwards': 7,\n",
    "         'Gilbert': 8,\n",
    "         'IDOTRR': 9,\n",
    "         'MeadowV': 10,\n",
    "         'Mitchel': 11,\n",
    "         'NAmes': 12,\n",
    "         'NPkVill': 13,\n",
    "         'NWAmes': 14,\n",
    "         'NoRidge': 15,\n",
    "         'NridgHt': 16,\n",
    "         'OldTown': 17,\n",
    "         'SWISU': 18,\n",
    "         'Sawyer': 19,\n",
    "         'SawyerW': 20,\n",
    "         'Somerst': 21,\n",
    "         'StoneBr': 22,\n",
    "         'Timber': 23,\n",
    "         'Veenker': 24}).astype(int)\n",
    "    house_df['BldgType']= org_house_df['BldgType'].map({'1Fam': 0, '2fmCon': 1, 'Duplex': 2, 'Twnhs': 3, 'TwnhsE': 4}).astype(int)\n",
    "    \n",
    "    org_house_df = org_house_df.fillna({'TotalBsmtSF' : 991}) \n",
    "    house_df['TotalBsmtSF'] = org_house_df['TotalBsmtSF']\n",
    "    house_df['FlrSF'] = org_house_df['1stFlrSF'] + org_house_df['2ndFlrSF']\n",
    "    house_df['GrLivArea'] = org_house_df['GrLivArea']\n",
    "    \n",
    "    house_df['HeatingQC']= org_house_df['HeatingQC'].map({'Ex': 0, 'Fa': 1, 'Gd': 2, 'Po': 3, 'TA': 4}).astype(int)\n",
    "    house_df['BedroomAbvGr']= org_house_df['BedroomAbvGr']\n",
    "    \n",
    "    org_house_df = org_house_df.fillna({'KitchenQual' : 'TA'}) \n",
    "    house_df['KitchenQual']= org_house_df['KitchenQual'].map({'Ex': 0, 'Fa': 1, 'Gd': 2, 'TA': 3}).astype(int)\n",
    "    \n",
    "    house_df['TotRmsAbvGrd']= org_house_df['TotRmsAbvGrd']\n",
    "    house_df['Fireplaces']= org_house_df['Fireplaces']\n",
    "    \n",
    "    org_house_df = org_house_df.fillna({'FireplaceQu' : 'Gd'}) \n",
    "    house_df['FireplaceQu']=org_house_df['FireplaceQu'].map({ 'Ex': 0, 'Fa': 1, 'Gd': 2, 'Po': 3, 'TA': 4}).astype(int)\n",
    "    \n",
    "    org_house_df = org_house_df.fillna({'GarageType' : 'Attchd'}) \n",
    "    house_df['GarageType']=org_house_df['GarageType'].map({'2Types': 0,\n",
    "         'Attchd': 1,\n",
    "         'Basment': 2,\n",
    "         'BuiltIn': 3,\n",
    "         'CarPort': 4,\n",
    "         'Detchd': 5}).astype(int)\n",
    "    \n",
    "    org_house_df = org_house_df.fillna({'GarageCars' : 2}) \n",
    "    house_df['GarageCars']= org_house_df['GarageCars']\n",
    "    \n",
    "    org_house_df = org_house_df.fillna({'GarageQual' : 'TA'}) \n",
    "    house_df['GarageQual']=org_house_df['GarageQual'].map({'Ex': 0, 'Fa': 1, 'Gd': 2, 'Po': 3, 'TA': 4}).astype(int)\n",
    "    \n",
    "    org_house_df = org_house_df.fillna({'GarageCond' : 'TA'}) \n",
    "    house_df['GarageCond']=org_house_df['GarageCond'].map({'Ex': 0, 'Fa': 1, 'Gd': 2, 'Po': 3, 'TA': 4}).astype(int)\n",
    "    \n",
    "    house_df['OverallCond']=org_house_df['OverallCond']\n",
    "    house_df['OverallQual']=org_house_df['OverallQual']\n",
    "    \n",
    "    house_df['HouseAge'] = org_house_df['YrSold'] - org_house_df['YearRemodAdd']\n",
    "    #house_df['GarageAge'] = org_house_df['YrSold'] - org_house_df['GarageYrBlt']\n",
    "    house_df['IsRebuild'] = org_house_df['YearRemodAdd'] - org_house_df['YearBuilt']\n",
    "    house_df['IsRebuild'].loc[house_df['IsRebuild']>0] = 1 \n",
    "    \n",
    "    return house_df\n",
    " "
   ]
  },
  {
   "cell_type": "code",
   "execution_count": 22,
   "metadata": {
    "collapsed": true
   },
   "outputs": [],
   "source": [
    "org_house_df = pd.read_csv('train.csv')"
   ]
  },
  {
   "cell_type": "code",
   "execution_count": 23,
   "metadata": {},
   "outputs": [],
   "source": [
    "house_df = pre_process(org_house_df)"
   ]
  },
  {
   "cell_type": "code",
   "execution_count": 24,
   "metadata": {
    "collapsed": true
   },
   "outputs": [],
   "source": [
    "t = org_house_df['SalePrice'].values\n",
    "x = house_df.values"
   ]
  },
  {
   "cell_type": "code",
   "execution_count": 25,
   "metadata": {},
   "outputs": [
    {
     "data": {
      "text/plain": [
       "(1460, 23)"
      ]
     },
     "execution_count": 25,
     "metadata": {},
     "output_type": "execute_result"
    }
   ],
   "source": [
    "x.shape"
   ]
  },
  {
   "cell_type": "code",
   "execution_count": 26,
   "metadata": {
    "collapsed": true
   },
   "outputs": [],
   "source": [
    "t = t.astype('f')\n",
    "x = x.astype('f')"
   ]
  },
  {
   "cell_type": "code",
   "execution_count": 27,
   "metadata": {
    "collapsed": true
   },
   "outputs": [],
   "source": [
    "t = t.reshape(len(t), 1)"
   ]
  },
  {
   "cell_type": "code",
   "execution_count": 28,
   "metadata": {
    "collapsed": true
   },
   "outputs": [],
   "source": [
    "dataset = list(zip(x, t))"
   ]
  },
  {
   "cell_type": "code",
   "execution_count": 29,
   "metadata": {},
   "outputs": [],
   "source": [
    "import chainer\n",
    "import chainer.functions as F\n",
    "import chainer.links as L\n",
    "import chainer\n",
    "import cupy\n",
    "\n",
    "from chainer import training\n",
    "from chainer.training import extensions\n",
    "from chainer.optimizer import WeightDecay"
   ]
  },
  {
   "cell_type": "code",
   "execution_count": 30,
   "metadata": {
    "collapsed": true
   },
   "outputs": [],
   "source": [
    "n_train = int(len(dataset)*0.7)"
   ]
  },
  {
   "cell_type": "code",
   "execution_count": 31,
   "metadata": {
    "collapsed": true
   },
   "outputs": [],
   "source": [
    "train, test = chainer.datasets.split_dataset_random(dataset, n_train, seed=0)"
   ]
  },
  {
   "cell_type": "code",
   "execution_count": 93,
   "metadata": {
    "collapsed": true
   },
   "outputs": [],
   "source": [
    "class NN(chainer.Chain):\n",
    "    def __init__(self, n_out=1):\n",
    "        super().__init__()\n",
    "        with self.init_scope():\n",
    "            self.fc1 = L.Linear(None, 20)\n",
    "            self.fc2 = L.Linear(None, 20)\n",
    "            self.fc3 = L.Linear(None, 10)\n",
    "            self.fc4 = L.Linear(None, n_out)\n",
    "            \n",
    "            self.bn = L.BatchNormalization(23)\n",
    "        \n",
    "    def __call__(self, x):\n",
    "        h = self.bn(x)\n",
    "        h = self.fc1(h)\n",
    "        h = F.relu(h)\n",
    "        h = self.fc2(h)\n",
    "        h = F.relu(h)\n",
    "        h = self.fc3(h)\n",
    "        h = F.relu(h)\n",
    "        h = self.fc4(h)\n",
    "\n",
    "        return h"
   ]
  },
  {
   "cell_type": "code",
   "execution_count": 94,
   "metadata": {
    "collapsed": true
   },
   "outputs": [],
   "source": [
    "np.random.seed(0)\n",
    "nn = NN()\n",
    "model = L.Classifier(nn, lossfun=F.mean_squared_error)\n",
    "model.compute_accuracy = False\n",
    "optimizer = chainer.optimizers.Adam()\n",
    "optimizer.setup(model)\n",
    "batch_size = 16"
   ]
  },
  {
   "cell_type": "code",
   "execution_count": 95,
   "metadata": {
    "collapsed": true
   },
   "outputs": [],
   "source": [
    "train_iter = chainer.iterators.SerialIterator(train, batch_size)\n",
    "test_iter = chainer.iterators.SerialIterator(test, batch_size, repeat=False, shuffle=False)"
   ]
  },
  {
   "cell_type": "code",
   "execution_count": 96,
   "metadata": {
    "collapsed": true
   },
   "outputs": [],
   "source": [
    "updater = training.StandardUpdater(train_iter, optimizer, device=-1)"
   ]
  },
  {
   "cell_type": "code",
   "execution_count": 97,
   "metadata": {
    "collapsed": true
   },
   "outputs": [],
   "source": [
    "epoch = 200"
   ]
  },
  {
   "cell_type": "code",
   "execution_count": 98,
   "metadata": {
    "collapsed": true
   },
   "outputs": [],
   "source": [
    "trainer = training.Trainer(updater, (epoch, \"epoch\"), out=\"result/house_price\")\n",
    "\n",
    "trainer.extend(extensions.Evaluator(test_iter, model, device=-1))\n",
    "trainer.extend(extensions.LogReport(trigger=(1, \"epoch\")))\n",
    "trainer.extend(extensions.PrintReport([\"epoch\", \"main/loss\", \"validation/main/loss\"]))"
   ]
  },
  {
   "cell_type": "code",
   "execution_count": 99,
   "metadata": {},
   "outputs": [
    {
     "name": "stdout",
     "output_type": "stream",
     "text": [
      "epoch       main/loss   validation/main/loss\n",
      "\u001b[J1           4.01305e+10  3.65039e+10           \n",
      "\u001b[J2           4.01702e+10  3.65018e+10           \n",
      "\u001b[J3           4.0303e+10  3.64724e+10           \n",
      "\u001b[J4           3.99325e+10  3.62264e+10           \n",
      "\u001b[J5           3.96081e+10  3.52022e+10           \n",
      "\u001b[J6           3.75336e+10  3.23676e+10           \n",
      "\u001b[J7           3.28866e+10  2.64914e+10           \n",
      "\u001b[J8           2.47629e+10  1.73246e+10           \n",
      "\u001b[J9           1.41981e+10  8.60799e+09           \n",
      "\u001b[J10          6.19763e+09  2.82846e+09           \n",
      "\u001b[J11          3.1044e+09  2.06576e+09           \n",
      "\u001b[J12          2.45241e+09  1.90852e+09           \n",
      "\u001b[J13          2.46914e+09  1.78937e+09           \n",
      "\u001b[J14          2.25022e+09  1.85149e+09           \n",
      "\u001b[J15          2.20201e+09  1.71074e+09           \n",
      "\u001b[J16          2.25221e+09  1.61634e+09           \n",
      "\u001b[J17          2.06659e+09  1.59736e+09           \n",
      "\u001b[J18          2.15684e+09  1.58804e+09           \n",
      "\u001b[J19          2.18315e+09  1.59613e+09           \n",
      "\u001b[J20          2.24476e+09  1.49659e+09           \n",
      "\u001b[J21          2.14567e+09  1.51776e+09           \n",
      "\u001b[J22          2.12825e+09  1.4602e+09            \n",
      "\u001b[J23          2.0449e+09  1.56298e+09           \n",
      "\u001b[J24          1.96891e+09  1.4586e+09            \n",
      "\u001b[J25          1.88973e+09  1.4546e+09            \n",
      "\u001b[J26          1.89995e+09  1.39018e+09           \n",
      "\u001b[J27          2.06248e+09  1.38402e+09           \n",
      "\u001b[J28          2.00942e+09  1.35128e+09           \n",
      "\u001b[J29          1.81696e+09  1.3865e+09            \n",
      "\u001b[J30          1.96919e+09  1.34916e+09           \n",
      "\u001b[J31          1.71975e+09  1.34915e+09           \n",
      "\u001b[J32          1.82733e+09  1.32851e+09           \n",
      "\u001b[J33          2.03951e+09  1.30783e+09           \n",
      "\u001b[J34          1.88409e+09  1.32937e+09           \n",
      "\u001b[J35          1.84716e+09  1.28365e+09           \n",
      "\u001b[J36          1.76019e+09  1.29461e+09           \n",
      "\u001b[J37          1.83685e+09  1.31504e+09           \n",
      "\u001b[J38          1.83323e+09  1.2877e+09            \n",
      "\u001b[J39          1.90212e+09  1.24297e+09           \n",
      "\u001b[J40          1.97861e+09  1.29711e+09           \n",
      "\u001b[J41          1.73462e+09  1.34543e+09           \n",
      "\u001b[J42          1.72891e+09  1.2242e+09            \n",
      "\u001b[J43          1.78683e+09  1.22429e+09           \n",
      "\u001b[J44          1.894e+09   1.22503e+09           \n",
      "\u001b[J45          1.85349e+09  1.20553e+09           \n",
      "\u001b[J46          1.71489e+09  1.21376e+09           \n",
      "\u001b[J47          1.86398e+09  1.19659e+09           \n",
      "\u001b[J48          1.73172e+09  1.24917e+09           \n",
      "\u001b[J49          1.83864e+09  1.24071e+09           \n",
      "\u001b[J50          1.78484e+09  1.20139e+09           \n",
      "\u001b[J51          1.89088e+09  1.25236e+09           \n",
      "\u001b[J52          1.72122e+09  1.18378e+09           \n",
      "\u001b[J53          1.83759e+09  1.17616e+09           \n",
      "\u001b[J54          1.89157e+09  1.17241e+09           \n",
      "\u001b[J55          1.74017e+09  1.17924e+09           \n",
      "\u001b[J56          1.59989e+09  1.17115e+09           \n",
      "\u001b[J57          1.86933e+09  1.15081e+09           \n",
      "\u001b[J58          1.7484e+09  1.25177e+09           \n",
      "\u001b[J59          1.85929e+09  1.16253e+09           \n",
      "\u001b[J60          1.74514e+09  1.16868e+09           \n",
      "\u001b[J61          1.61731e+09  1.16054e+09           \n",
      "\u001b[J62          1.62725e+09  1.14574e+09           \n",
      "\u001b[J63          1.7221e+09  1.12283e+09           \n",
      "\u001b[J64          1.7273e+09  1.12058e+09           \n",
      "\u001b[J65          1.72733e+09  1.1139e+09            \n",
      "\u001b[J66          1.64786e+09  1.13655e+09           \n",
      "\u001b[J67          1.85331e+09  1.1376e+09            \n",
      "\u001b[J68          1.68404e+09  1.1351e+09            \n",
      "\u001b[J69          1.7059e+09  1.10184e+09           \n",
      "\u001b[J70          1.59638e+09  1.10735e+09           \n",
      "\u001b[J71          1.69751e+09  1.17032e+09           \n",
      "\u001b[J72          1.72988e+09  1.12742e+09           \n",
      "\u001b[J73          1.65893e+09  1.11649e+09           \n",
      "\u001b[J74          1.60803e+09  1.13433e+09           \n",
      "\u001b[J75          1.79766e+09  1.09485e+09           \n",
      "\u001b[J76          1.66308e+09  1.10103e+09           \n",
      "\u001b[J77          1.8081e+09  1.10103e+09           \n",
      "\u001b[J78          1.73768e+09  1.08295e+09           \n",
      "\u001b[J79          1.73299e+09  1.10274e+09           \n",
      "\u001b[J80          1.8e+09     1.10319e+09           \n",
      "\u001b[J81          1.66482e+09  1.09113e+09           \n",
      "\u001b[J82          1.67121e+09  1.08436e+09           \n",
      "\u001b[J83          1.77127e+09  1.12476e+09           \n",
      "\u001b[J84          1.80449e+09  1.12339e+09           \n",
      "\u001b[J85          1.7003e+09  1.07992e+09           \n",
      "\u001b[J86          1.67723e+09  1.21469e+09           \n",
      "\u001b[J87          1.60659e+09  1.08746e+09           \n",
      "\u001b[J88          1.60409e+09  1.1025e+09            \n",
      "\u001b[J89          1.86409e+09  1.13702e+09           \n",
      "\u001b[J90          1.67692e+09  1.16227e+09           \n",
      "\u001b[J91          1.89399e+09  1.14719e+09           \n",
      "\u001b[J92          1.70301e+09  1.09666e+09           \n",
      "\u001b[J93          1.73109e+09  1.08102e+09           \n",
      "\u001b[J94          1.67052e+09  1.05981e+09           \n",
      "\u001b[J95          1.71606e+09  1.08095e+09           \n",
      "\u001b[J96          1.73422e+09  1.08602e+09           \n",
      "\u001b[J97          1.76832e+09  1.06272e+09           \n",
      "\u001b[J98          1.7413e+09  1.13275e+09           \n",
      "\u001b[J99          1.69256e+09  1.13018e+09           \n",
      "\u001b[J100         1.58359e+09  1.09339e+09           \n",
      "\u001b[J101         1.60144e+09  1.10983e+09           \n",
      "\u001b[J102         1.62068e+09  1.12684e+09           \n",
      "\u001b[J103         1.73914e+09  1.08659e+09           \n",
      "\u001b[J104         1.74118e+09  1.12718e+09           \n",
      "\u001b[J105         1.72331e+09  1.06184e+09           \n",
      "\u001b[J106         1.73137e+09  1.07351e+09           \n",
      "\u001b[J107         1.70818e+09  1.08683e+09           \n",
      "\u001b[J108         1.74371e+09  1.09953e+09           \n",
      "\u001b[J109         1.6364e+09  1.12952e+09           \n",
      "\u001b[J110         1.62687e+09  1.06333e+09           \n",
      "\u001b[J111         1.66558e+09  1.06238e+09           \n",
      "\u001b[J112         1.74442e+09  1.11567e+09           \n",
      "\u001b[J113         1.80441e+09  1.06832e+09           \n",
      "\u001b[J114         1.72989e+09  1.1071e+09            \n",
      "\u001b[J115         1.59876e+09  1.09231e+09           \n",
      "\u001b[J116         1.77544e+09  1.09197e+09           \n",
      "\u001b[J117         1.67729e+09  1.07231e+09           \n",
      "\u001b[J118         1.66709e+09  1.0559e+09            \n",
      "\u001b[J119         1.66838e+09  1.05417e+09           \n",
      "\u001b[J120         1.7847e+09  1.04231e+09           \n",
      "\u001b[J121         1.84179e+09  1.04629e+09           \n",
      "\u001b[J122         1.71866e+09  1.07449e+09           \n",
      "\u001b[J123         1.66266e+09  1.07587e+09           \n",
      "\u001b[J124         1.68078e+09  1.0776e+09            \n",
      "\u001b[J125         1.71905e+09  1.05721e+09           \n",
      "\u001b[J126         1.64132e+09  1.12929e+09           \n",
      "\u001b[J127         1.63294e+09  1.08137e+09           \n",
      "\u001b[J128         1.62805e+09  1.04945e+09           \n",
      "\u001b[J129         1.67247e+09  1.07729e+09           \n",
      "\u001b[J130         1.75297e+09  1.11416e+09           \n",
      "\u001b[J131         1.86281e+09  1.04759e+09           \n",
      "\u001b[J132         1.71059e+09  1.0552e+09            \n",
      "\u001b[J133         1.75079e+09  1.06261e+09           \n",
      "\u001b[J134         1.62626e+09  1.10243e+09           \n",
      "\u001b[J135         1.73829e+09  1.08431e+09           \n",
      "\u001b[J136         1.61177e+09  1.06003e+09           \n",
      "\u001b[J137         1.86984e+09  1.0594e+09            \n",
      "\u001b[J138         1.67546e+09  1.09632e+09           \n",
      "\u001b[J139         1.67424e+09  1.0674e+09            \n",
      "\u001b[J140         1.7367e+09  1.06478e+09           \n",
      "\u001b[J141         1.67337e+09  1.12481e+09           \n",
      "\u001b[J142         1.67944e+09  1.08105e+09           \n",
      "\u001b[J143         1.7201e+09  1.06928e+09           \n",
      "\u001b[J144         1.71841e+09  1.05892e+09           \n",
      "\u001b[J145         1.60452e+09  1.12888e+09           \n",
      "\u001b[J146         1.68541e+09  1.06489e+09           \n",
      "\u001b[J147         1.76633e+09  1.05558e+09           \n",
      "\u001b[J148         1.82843e+09  1.07345e+09           \n",
      "\u001b[J149         1.79674e+09  1.08384e+09           \n",
      "\u001b[J150         1.71822e+09  1.1269e+09            \n",
      "\u001b[J151         1.70683e+09  1.07742e+09           \n",
      "\u001b[J152         1.78145e+09  1.07049e+09           \n",
      "\u001b[J153         1.89473e+09  1.16887e+09           \n",
      "\u001b[J154         1.57617e+09  1.07006e+09           \n",
      "\u001b[J155         1.82366e+09  1.11453e+09           \n",
      "\u001b[J156         1.5824e+09  1.05649e+09           \n",
      "\u001b[J157         1.73322e+09  1.10095e+09           \n",
      "\u001b[J158         1.66869e+09  1.08011e+09           \n",
      "\u001b[J159         1.80223e+09  1.09544e+09           \n",
      "\u001b[J160         1.65767e+09  1.05202e+09           \n",
      "\u001b[J161         1.64726e+09  1.05693e+09           \n"
     ]
    },
    {
     "name": "stdout",
     "output_type": "stream",
     "text": [
      "\u001b[J162         1.79145e+09  1.0552e+09            \n",
      "\u001b[J163         1.6995e+09  1.07647e+09           \n",
      "\u001b[J164         1.68697e+09  1.09266e+09           \n",
      "\u001b[J165         1.73484e+09  1.06426e+09           \n",
      "\u001b[J166         1.66108e+09  1.05973e+09           \n",
      "\u001b[J167         1.67888e+09  1.03915e+09           \n",
      "\u001b[J168         1.80532e+09  1.05191e+09           \n",
      "\u001b[J169         1.55662e+09  1.09757e+09           \n",
      "\u001b[J170         1.76994e+09  1.13833e+09           \n",
      "\u001b[J171         1.78979e+09  1.03627e+09           \n",
      "\u001b[J172         1.67087e+09  1.06547e+09           \n",
      "\u001b[J173         1.56854e+09  1.05807e+09           \n",
      "\u001b[J174         1.76854e+09  1.04711e+09           \n",
      "\u001b[J175         1.67735e+09  1.02866e+09           \n",
      "\u001b[J176         1.67618e+09  1.06403e+09           \n",
      "\u001b[J177         1.59923e+09  1.04305e+09           \n",
      "\u001b[J178         1.71262e+09  1.0418e+09            \n",
      "\u001b[J179         1.621e+09   1.0454e+09            \n",
      "\u001b[J180         1.61713e+09  1.06309e+09           \n",
      "\u001b[J181         1.62509e+09  1.0466e+09            \n",
      "\u001b[J182         1.76982e+09  1.04975e+09           \n",
      "\u001b[J183         1.69904e+09  1.13371e+09           \n",
      "\u001b[J184         1.78426e+09  1.05373e+09           \n",
      "\u001b[J185         1.64988e+09  1.03905e+09           \n",
      "\u001b[J186         1.68434e+09  1.06118e+09           \n",
      "\u001b[J187         1.6404e+09  1.10132e+09           \n",
      "\u001b[J188         1.68601e+09  1.05813e+09           \n",
      "\u001b[J189         1.77054e+09  1.03674e+09           \n",
      "\u001b[J190         1.66088e+09  1.09644e+09           \n",
      "\u001b[J191         1.76193e+09  1.09856e+09           \n",
      "\u001b[J192         1.61273e+09  1.04185e+09           \n",
      "\u001b[J193         1.58265e+09  1.02348e+09           \n",
      "\u001b[J194         1.80373e+09  1.05762e+09           \n",
      "\u001b[J195         1.72126e+09  1.09784e+09           \n",
      "\u001b[J196         1.74023e+09  1.05123e+09           \n",
      "\u001b[J197         1.62551e+09  1.05918e+09           \n",
      "\u001b[J198         1.72353e+09  1.05595e+09           \n",
      "\u001b[J199         1.76939e+09  1.03606e+09           \n",
      "\u001b[J200         1.63617e+09  1.13496e+09           \n"
     ]
    }
   ],
   "source": [
    "trainer.run()"
   ]
  },
  {
   "cell_type": "code",
   "execution_count": 100,
   "metadata": {
    "collapsed": true
   },
   "outputs": [],
   "source": [
    "import json"
   ]
  },
  {
   "cell_type": "code",
   "execution_count": 101,
   "metadata": {
    "collapsed": true
   },
   "outputs": [],
   "source": [
    "with open(\"result/house_price/log\") as f:\n",
    "    logs = json.load(f)"
   ]
  },
  {
   "cell_type": "code",
   "execution_count": 102,
   "metadata": {
    "collapsed": true
   },
   "outputs": [],
   "source": [
    "results = pd.DataFrame(logs)"
   ]
  },
  {
   "cell_type": "code",
   "execution_count": 103,
   "metadata": {},
   "outputs": [
    {
     "data": {
      "text/plain": [
       "<matplotlib.axes._subplots.AxesSubplot at 0x7fd13d832b38>"
      ]
     },
     "execution_count": 103,
     "metadata": {},
     "output_type": "execute_result"
    },
    {
     "data": {
      "image/png": "[encoded data removed]",
      "text/plain": [
       "<matplotlib.figure.Figure at 0x7fd13d879828>"
      ]
     },
     "metadata": {},
     "output_type": "display_data"
    }
   ],
   "source": [
    "results[[\"main/loss\", \"validation/main/loss\"]].plot()"
   ]
  },
  {
   "cell_type": "code",
   "execution_count": 104,
   "metadata": {
    "collapsed": true
   },
   "outputs": [],
   "source": [
    "chainer.serializers.save_npz(\"models/house_price_3.npz\", model)"
   ]
  },
  {
   "cell_type": "code",
   "execution_count": 105,
   "metadata": {
    "collapsed": true
   },
   "outputs": [],
   "source": [
    "test_house_df = pd.read_csv('test.csv')"
   ]
  },
  {
   "cell_type": "code",
   "execution_count": 106,
   "metadata": {},
   "outputs": [
    {
     "name": "stderr",
     "output_type": "stream",
     "text": [
      "/usr/local/pyenv/versions/anaconda3-4.4.0/lib/python3.6/site-packages/pandas/core/indexing.py:179: SettingWithCopyWarning: \n",
      "A value is trying to be set on a copy of a slice from a DataFrame\n",
      "\n",
      "See the caveats in the documentation: http://pandas.pydata.org/pandas-docs/stable/indexing.html#indexing-view-versus-copy\n",
      "  self._setitem_with_indexer(indexer, value)\n"
     ]
    }
   ],
   "source": [
    "predict_df = pre_process(test_house_df)"
   ]
  },
  {
   "cell_type": "code",
   "execution_count": 107,
   "metadata": {
    "collapsed": true
   },
   "outputs": [],
   "source": [
    "x = predict_df.values"
   ]
  },
  {
   "cell_type": "code",
   "execution_count": 108,
   "metadata": {
    "collapsed": true
   },
   "outputs": [],
   "source": [
    "x = x.astype('f')"
   ]
  },
  {
   "cell_type": "code",
   "execution_count": 109,
   "metadata": {
    "collapsed": true
   },
   "outputs": [],
   "source": [
    "sale_prices = []"
   ]
  },
  {
   "cell_type": "code",
   "execution_count": 110,
   "metadata": {
    "collapsed": true
   },
   "outputs": [],
   "source": [
    "with chainer.using_config('train', False), chainer.using_config('enable_backprop', False):\n",
    "    for i, x_ in enumerate(x):\n",
    "        x_new = x_\n",
    "        x_new = x_new[np.newaxis]\n",
    "        y = model.predictor(x_new)\n",
    "        sale_prices.append(y.data)"
   ]
  },
  {
   "cell_type": "code",
   "execution_count": 111,
   "metadata": {
    "collapsed": true
   },
   "outputs": [],
   "source": [
    "output_df = pd.DataFrame()"
   ]
  },
  {
   "cell_type": "code",
   "execution_count": 112,
   "metadata": {
    "collapsed": true
   },
   "outputs": [],
   "source": [
    "sale_prices = np.reshape(sale_prices, 1459)"
   ]
  },
  {
   "cell_type": "code",
   "execution_count": 113,
   "metadata": {
    "collapsed": true
   },
   "outputs": [],
   "source": [
    "output_df['Id'] = test_house_df['Id']\n",
    "output_df['SalePrice'] = np.array(sale_prices)"
   ]
  },
  {
   "cell_type": "code",
   "execution_count": 114,
   "metadata": {},
   "outputs": [
    {
     "data": {
      "text/html": [
       "<div>\n",
       "<style>\n",
       "    .dataframe thead tr:only-child th {\n",
       "        text-align: right;\n",
       "    }\n",
       "\n",
       "    .dataframe thead th {\n",
       "        text-align: left;\n",
       "    }\n",
       "\n",
       "    .dataframe tbody tr th {\n",
       "        vertical-align: top;\n",
       "    }\n",
       "</style>\n",
       "<table border=\"1\" class=\"dataframe\">\n",
       "  <thead>\n",
       "    <tr style=\"text-align: right;\">\n",
       "      <th></th>\n",
       "      <th>Id</th>\n",
       "      <th>SalePrice</th>\n",
       "    </tr>\n",
       "  </thead>\n",
       "  <tbody>\n",
       "    <tr>\n",
       "      <th>0</th>\n",
       "      <td>1461</td>\n",
       "      <td>119831.265625</td>\n",
       "    </tr>\n",
       "    <tr>\n",
       "      <th>1</th>\n",
       "      <td>1462</td>\n",
       "      <td>164859.000000</td>\n",
       "    </tr>\n",
       "    <tr>\n",
       "      <th>2</th>\n",
       "      <td>1463</td>\n",
       "      <td>159911.843750</td>\n",
       "    </tr>\n",
       "    <tr>\n",
       "      <th>3</th>\n",
       "      <td>1464</td>\n",
       "      <td>207002.375000</td>\n",
       "    </tr>\n",
       "    <tr>\n",
       "      <th>4</th>\n",
       "      <td>1465</td>\n",
       "      <td>204783.156250</td>\n",
       "    </tr>\n",
       "  </tbody>\n",
       "</table>\n",
       "</div>"
      ],
      "text/plain": [
       "     Id      SalePrice\n",
       "0  1461  119831.265625\n",
       "1  1462  164859.000000\n",
       "2  1463  159911.843750\n",
       "3  1464  207002.375000\n",
       "4  1465  204783.156250"
      ]
     },
     "execution_count": 114,
     "metadata": {},
     "output_type": "execute_result"
    }
   ],
   "source": [
    "output_df.head()"
   ]
  },
  {
   "cell_type": "code",
   "execution_count": 115,
   "metadata": {
    "collapsed": true
   },
   "outputs": [],
   "source": [
    "output_df.to_csv('predict_20190114.csv')"
   ]
  },
  {
   "cell_type": "code",
   "execution_count": null,
   "metadata": {
    "collapsed": true
   },
   "outputs": [],
   "source": []
  }
 ],
 "metadata": {
  "kernelspec": {
   "display_name": "Python 3",
   "language": "python",
   "name": "python3"
  },
  "language_info": {
   "codemirror_mode": {
    "name": "ipython",
    "version": 3
   },
   "file_extension": ".py",
   "mimetype": "text/x-python",
   "name": "python",
   "nbconvert_exporter": "python",
   "pygments_lexer": "ipython3",
   "version": "3.6.1"
  }
 },
 "nbformat": 4,
 "nbformat_minor": 2
}

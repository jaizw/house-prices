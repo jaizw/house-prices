{
 "cells": [
  {
   "cell_type": "code",
   "execution_count": 1,
   "metadata": {
    "collapsed": true
   },
   "outputs": [],
   "source": [
    "import pandas as pd\n",
    "from pandas import Series,DataFrame\n",
    "\n",
    "import numpy as np\n",
    "import matplotlib as mpl\n",
    "import matplotlib.pyplot as plt\n",
    "import seaborn as sns\n",
    "%matplotlib inline"
   ]
  },
  {
   "cell_type": "code",
   "execution_count": 2,
   "metadata": {
    "collapsed": true
   },
   "outputs": [],
   "source": [
    "def pre_process(org_house_df):\n",
    "    \n",
    "    house_df = pd.DataFrame()\n",
    "    \n",
    "    org_house_df = org_house_df.fillna({'MSZoning' : 'RL'}) \n",
    "    house_df['MSZoning']= org_house_df['MSZoning'].map({'C (all)': 0, 'FV': 1, 'RH': 2, 'RL': 3, 'RM': 4}).astype(int)\n",
    "    house_df['LandContour']= org_house_df['LandContour'].map({'Bnk': 0, 'HLS': 1, 'Low': 2, 'Lvl': 3}).astype(int)\n",
    "    house_df['Condition1']= org_house_df['Condition1'].map({'Artery': 0,\n",
    "         'Feedr': 1,\n",
    "         'Norm': 2,\n",
    "         'PosA': 3,\n",
    "         'PosN': 4,\n",
    "         'RRAe': 5,\n",
    "         'RRAn': 6,\n",
    "         'RRNe': 7,\n",
    "         'RRNn': 8}).astype(int)\n",
    "    house_df['Condition2']= org_house_df['Condition2'].map({'Artery': 0,\n",
    "         'Feedr': 1,\n",
    "         'Norm': 2,\n",
    "         'PosA': 3,\n",
    "         'PosN': 4,\n",
    "         'RRAe': 5,\n",
    "         'RRAn': 6,\n",
    "         'RRNn': 7}).astype(int)\n",
    "    house_df['Neighborhood']= org_house_df['Neighborhood'].map({'Blmngtn': 0,\n",
    "         'Blueste': 1,\n",
    "         'BrDale': 2,\n",
    "         'BrkSide': 3,\n",
    "         'ClearCr': 4,\n",
    "         'CollgCr': 5,\n",
    "         'Crawfor': 6,\n",
    "         'Edwards': 7,\n",
    "         'Gilbert': 8,\n",
    "         'IDOTRR': 9,\n",
    "         'MeadowV': 10,\n",
    "         'Mitchel': 11,\n",
    "         'NAmes': 12,\n",
    "         'NPkVill': 13,\n",
    "         'NWAmes': 14,\n",
    "         'NoRidge': 15,\n",
    "         'NridgHt': 16,\n",
    "         'OldTown': 17,\n",
    "         'SWISU': 18,\n",
    "         'Sawyer': 19,\n",
    "         'SawyerW': 20,\n",
    "         'Somerst': 21,\n",
    "         'StoneBr': 22,\n",
    "         'Timber': 23,\n",
    "         'Veenker': 24}).astype(int)\n",
    "    house_df['BldgType']= org_house_df['BldgType'].map({'1Fam': 0, '2fmCon': 1, 'Duplex': 2, 'Twnhs': 3, 'TwnhsE': 4}).astype(int)\n",
    "    house_df['HeatingQC']= org_house_df['HeatingQC'].map({'Ex': 0, 'Fa': 1, 'Gd': 2, 'Po': 3, 'TA': 4}).astype(int)\n",
    "    house_df['BedroomAbvGr']= org_house_df['BedroomAbvGr']\n",
    "    \n",
    "    org_house_df = org_house_df.fillna({'KitchenQual' : 'TA'}) \n",
    "    house_df['KitchenQual']= org_house_df['KitchenQual'].map({'Ex': 0, 'Fa': 1, 'Gd': 2, 'TA': 3}).astype(int)\n",
    "    \n",
    "    house_df['TotRmsAbvGrd']= org_house_df['TotRmsAbvGrd']\n",
    "    house_df['Fireplaces']= org_house_df['Fireplaces']\n",
    "    \n",
    "    org_house_df = org_house_df.fillna({'FireplaceQu' : 'Gd'}) \n",
    "    house_df['FireplaceQu']=org_house_df['FireplaceQu'].map({ 'Ex': 0, 'Fa': 1, 'Gd': 2, 'Po': 3, 'TA': 4}).astype(int)\n",
    "    \n",
    "    org_house_df = org_house_df.fillna({'GarageType' : 'Attchd'}) \n",
    "    house_df['GarageType']=org_house_df['GarageType'].map({'2Types': 0,\n",
    "         'Attchd': 1,\n",
    "         'Basment': 2,\n",
    "         'BuiltIn': 3,\n",
    "         'CarPort': 4,\n",
    "         'Detchd': 5}).astype(int)\n",
    "    \n",
    "    org_house_df = org_house_df.fillna({'GarageQual' : 'TA'}) \n",
    "    house_df['GarageQual']=org_house_df['GarageQual'].map({'Ex': 0, 'Fa': 1, 'Gd': 2, 'Po': 3, 'TA': 4}).astype(int)\n",
    "    \n",
    "    org_house_df = org_house_df.fillna({'GarageCond' : 'TA'}) \n",
    "    house_df['GarageQual']=org_house_df['GarageQual'].map({'Ex': 0, 'Fa': 1, 'Gd': 2, 'Po': 3, 'TA': 4}).astype(int)\n",
    "    \n",
    "    house_df['OverallCond']=org_house_df['OverallCond']\n",
    "    house_df['OverallQual']=org_house_df['OverallQual']\n",
    "    \n",
    "    return house_df\n",
    " "
   ]
  },
  {
   "cell_type": "code",
   "execution_count": 3,
   "metadata": {
    "collapsed": true
   },
   "outputs": [],
   "source": [
    "org_house_df = pd.read_csv('train.csv')"
   ]
  },
  {
   "cell_type": "code",
   "execution_count": 4,
   "metadata": {
    "collapsed": true
   },
   "outputs": [],
   "source": [
    "house_df = pre_process(org_house_df)"
   ]
  },
  {
   "cell_type": "code",
   "execution_count": 5,
   "metadata": {
    "collapsed": true
   },
   "outputs": [],
   "source": [
    "t = org_house_df['SalePrice'].values\n",
    "x = house_df.values"
   ]
  },
  {
   "cell_type": "code",
   "execution_count": 6,
   "metadata": {
    "collapsed": true
   },
   "outputs": [],
   "source": [
    "t = t.astype('f')\n",
    "x = x.astype('f')"
   ]
  },
  {
   "cell_type": "code",
   "execution_count": 7,
   "metadata": {
    "collapsed": true
   },
   "outputs": [],
   "source": [
    "t = t.reshape(len(t), 1)"
   ]
  },
  {
   "cell_type": "code",
   "execution_count": 8,
   "metadata": {
    "collapsed": true
   },
   "outputs": [],
   "source": [
    "dataset = list(zip(x, t))"
   ]
  },
  {
   "cell_type": "code",
   "execution_count": 9,
   "metadata": {},
   "outputs": [
    {
     "name": "stderr",
     "output_type": "stream",
     "text": [
      "/usr/local/pyenv/versions/anaconda3-4.4.0/lib/python3.6/site-packages/h5py/__init__.py:34: FutureWarning: Conversion of the second argument of issubdtype from `float` to `np.floating` is deprecated. In future, it will be treated as `np.float64 == np.dtype(float).type`.\n",
      "  from ._conv import register_converters as _register_converters\n"
     ]
    }
   ],
   "source": [
    "import chainer\n",
    "import chainer.functions as F\n",
    "import chainer.links as L\n",
    "import chainer\n",
    "import cupy\n",
    "\n",
    "from chainer import training\n",
    "from chainer.training import extensions\n",
    "from chainer.optimizer import WeightDecay"
   ]
  },
  {
   "cell_type": "code",
   "execution_count": 10,
   "metadata": {
    "collapsed": true
   },
   "outputs": [],
   "source": [
    "n_train = int(len(dataset)*0.7)"
   ]
  },
  {
   "cell_type": "code",
   "execution_count": 11,
   "metadata": {
    "collapsed": true
   },
   "outputs": [],
   "source": [
    "train, test = chainer.datasets.split_dataset_random(dataset, n_train, seed=0)"
   ]
  },
  {
   "cell_type": "code",
   "execution_count": 12,
   "metadata": {
    "collapsed": true
   },
   "outputs": [],
   "source": [
    "class NN(chainer.Chain):\n",
    "    def __init__(self, n_mid_units1=10, n_mid_units2=5, n_out=1):\n",
    "        super().__init__()\n",
    "        with self.init_scope():\n",
    "            self.fc1 = L.Linear(None, n_mid_units1)\n",
    "            self.fc2 = L.Linear(None, n_mid_units2)\n",
    "            self.fc3 = L.Linear(None, n_out)\n",
    "            \n",
    "            self.bn = L.BatchNormalization(16)\n",
    "        \n",
    "    def __call__(self, x):\n",
    "        h = self.bn(x)\n",
    "        h = self.fc1(h)\n",
    "        h = F.relu(h)\n",
    "        h = self.fc2(h)\n",
    "        h = F.relu(h)\n",
    "        h = self.fc3(h)\n",
    "\n",
    "        return h"
   ]
  },
  {
   "cell_type": "code",
   "execution_count": 13,
   "metadata": {
    "collapsed": true
   },
   "outputs": [],
   "source": [
    "np.random.seed(0)\n",
    "nn = NN()\n",
    "model = L.Classifier(nn, lossfun=F.mean_squared_error)\n",
    "model.compute_accuracy = False\n",
    "optimizer = chainer.optimizers.Adam()\n",
    "optimizer.setup(model)\n",
    "batch_size = 10"
   ]
  },
  {
   "cell_type": "code",
   "execution_count": 14,
   "metadata": {
    "collapsed": true
   },
   "outputs": [],
   "source": [
    "train_iter = chainer.iterators.SerialIterator(train, batch_size)\n",
    "test_iter = chainer.iterators.SerialIterator(test, batch_size, repeat=False, shuffle=False)"
   ]
  },
  {
   "cell_type": "code",
   "execution_count": 15,
   "metadata": {
    "collapsed": true
   },
   "outputs": [],
   "source": [
    "updater = training.StandardUpdater(train_iter, optimizer, device=-1)"
   ]
  },
  {
   "cell_type": "code",
   "execution_count": 16,
   "metadata": {
    "collapsed": true
   },
   "outputs": [],
   "source": [
    "epoch = 100"
   ]
  },
  {
   "cell_type": "code",
   "execution_count": 17,
   "metadata": {
    "collapsed": true
   },
   "outputs": [],
   "source": [
    "trainer = training.Trainer(updater, (epoch, \"epoch\"), out=\"result/house_price\")\n",
    "\n",
    "trainer.extend(extensions.Evaluator(test_iter, model, device=-1))\n",
    "trainer.extend(extensions.LogReport(trigger=(1, \"epoch\")))\n",
    "trainer.extend(extensions.PrintReport([\"epoch\", \"main/loss\", \"validation/main/loss\"]))"
   ]
  },
  {
   "cell_type": "code",
   "execution_count": 18,
   "metadata": {},
   "outputs": [
    {
     "name": "stdout",
     "output_type": "stream",
     "text": [
      "epoch       main/loss   validation/main/loss\n",
      "\u001b[J1           4.04579e+10  3.63465e+10           \n",
      "\u001b[J2           3.99455e+10  3.63442e+10           \n",
      "\u001b[J3           4.00382e+10  3.6331e+10            \n",
      "\u001b[J4           4.04581e+10  3.62788e+10           \n",
      "\u001b[J5           4.00579e+10  3.6122e+10            \n",
      "\u001b[J6           3.95642e+10  3.5792e+10            \n",
      "\u001b[J7           3.94334e+10  3.51945e+10           \n",
      "\u001b[J8           3.85884e+10  3.43371e+10           \n",
      "\u001b[J9           3.71504e+10  3.30113e+10           \n",
      "\u001b[J10          3.57128e+10  3.13669e+10           \n",
      "\u001b[J11          3.34964e+10  2.89222e+10           \n",
      "\u001b[J12          3.11072e+10  2.64635e+10           \n",
      "\u001b[J13          2.80032e+10  2.36316e+10           \n",
      "\u001b[J14          2.46764e+10  2.01691e+10           \n",
      "\u001b[J15          2.1256e+10  1.69721e+10           \n",
      "\u001b[J16          1.77431e+10  1.40617e+10           \n",
      "\u001b[J17          1.44061e+10  1.04848e+10           \n",
      "\u001b[J18          1.13668e+10  8.79108e+09           \n",
      "\u001b[J19          8.81724e+09  6.3983e+09            \n",
      "\u001b[J20          6.75323e+09  4.83401e+09           \n",
      "\u001b[J21          5.34684e+09  3.72269e+09           \n",
      "\u001b[J22          4.4096e+09  3.03536e+09           \n",
      "\u001b[J23          3.92709e+09  2.77841e+09           \n",
      "\u001b[J24          3.52692e+09  2.61785e+09           \n",
      "\u001b[J25          3.26061e+09  2.50475e+09           \n",
      "\u001b[J26          3.11313e+09  2.48705e+09           \n",
      "\u001b[J27          3.18724e+09  2.37772e+09           \n",
      "\u001b[J28          3.03295e+09  2.45923e+09           \n",
      "\u001b[J29          3.1051e+09  2.3604e+09            \n",
      "\u001b[J30          3.04688e+09  2.40682e+09           \n",
      "\u001b[J31          2.97566e+09  2.40011e+09           \n",
      "\u001b[J32          2.88983e+09  2.29889e+09           \n",
      "\u001b[J33          3.03379e+09  2.35308e+09           \n",
      "\u001b[J34          2.96899e+09  2.23224e+09           \n",
      "\u001b[J35          2.86018e+09  2.3361e+09            \n",
      "\u001b[J36          2.98581e+09  2.2392e+09            \n",
      "\u001b[J37          2.77835e+09  2.23417e+09           \n",
      "\u001b[J38          2.71121e+09  2.26938e+09           \n",
      "\u001b[J39          2.68803e+09  2.12954e+09           \n",
      "\u001b[J40          2.88119e+09  2.15765e+09           \n",
      "\u001b[J41          2.85858e+09  2.11766e+09           \n",
      "\u001b[J42          2.55427e+09  2.11508e+09           \n",
      "\u001b[J43          2.76748e+09  2.1206e+09            \n",
      "\u001b[J44          2.93566e+09  2.07838e+09           \n",
      "\u001b[J45          2.84695e+09  2.09519e+09           \n",
      "\u001b[J46          2.73287e+09  2.03371e+09           \n",
      "\u001b[J47          2.88182e+09  2.01363e+09           \n",
      "\u001b[J48          2.61906e+09  2.07636e+09           \n",
      "\u001b[J49          2.69984e+09  2.07813e+09           \n",
      "\u001b[J50          2.62484e+09  2.06125e+09           \n",
      "\u001b[J51          2.76298e+09  1.97391e+09           \n",
      "\u001b[J52          2.67123e+09  2.00595e+09           \n",
      "\u001b[J53          2.65504e+09  2.06129e+09           \n",
      "\u001b[J54          2.71521e+09  1.96281e+09           \n",
      "\u001b[J55          2.66619e+09  2.01424e+09           \n",
      "\u001b[J56          2.57809e+09  1.96885e+09           \n",
      "\u001b[J57          2.59573e+09  1.91912e+09           \n",
      "\u001b[J58          2.54328e+09  1.95128e+09           \n",
      "\u001b[J59          2.5578e+09  1.931e+09             \n",
      "\u001b[J60          2.59908e+09  1.86728e+09           \n",
      "\u001b[J61          2.57873e+09  1.91309e+09           \n",
      "\u001b[J62          2.64912e+09  1.94786e+09           \n",
      "\u001b[J63          2.49207e+09  1.89298e+09           \n",
      "\u001b[J64          2.51753e+09  1.87742e+09           \n",
      "\u001b[J65          2.61341e+09  1.92405e+09           \n",
      "\u001b[J66          2.82956e+09  1.87068e+09           \n",
      "\u001b[J67          2.44434e+09  1.91458e+09           \n",
      "\u001b[J68          2.69378e+09  1.87005e+09           \n",
      "\u001b[J69          2.36164e+09  1.89292e+09           \n",
      "\u001b[J70          2.56363e+09  1.91109e+09           \n",
      "\u001b[J71          2.43299e+09  1.84087e+09           \n",
      "\u001b[J72          2.55184e+09  1.95076e+09           \n",
      "\u001b[J73          2.55833e+09  1.8534e+09            \n",
      "\u001b[J74          2.55691e+09  1.86005e+09           \n",
      "\u001b[J75          2.52772e+09  1.88124e+09           \n",
      "\u001b[J76          2.63703e+09  1.89122e+09           \n",
      "\u001b[J77          2.46047e+09  1.87269e+09           \n",
      "\u001b[J78          2.52504e+09  1.84293e+09           \n",
      "\u001b[J79          2.38541e+09  1.7972e+09            \n",
      "\u001b[J80          2.49849e+09  1.84211e+09           \n",
      "\u001b[J81          2.28778e+09  1.85739e+09           \n",
      "\u001b[J82          2.43198e+09  1.85378e+09           \n",
      "\u001b[J83          2.43346e+09  1.84389e+09           \n",
      "\u001b[J84          2.51344e+09  1.81726e+09           \n",
      "\u001b[J85          2.6296e+09  1.81261e+09           \n",
      "\u001b[J86          2.57633e+09  1.79952e+09           \n",
      "\u001b[J87          2.48506e+09  1.79566e+09           \n",
      "\u001b[J88          2.63286e+09  1.79984e+09           \n",
      "\u001b[J89          2.48416e+09  1.83406e+09           \n",
      "\u001b[J90          2.53349e+09  1.79011e+09           \n",
      "\u001b[J91          2.63067e+09  1.82245e+09           \n",
      "\u001b[J92          2.48571e+09  1.78088e+09           \n",
      "\u001b[J93          2.57103e+09  1.84329e+09           \n",
      "\u001b[J94          2.43526e+09  1.77646e+09           \n",
      "\u001b[J95          2.44973e+09  1.81196e+09           \n",
      "\u001b[J96          2.53191e+09  1.78366e+09           \n",
      "\u001b[J97          2.56303e+09  1.78089e+09           \n",
      "\u001b[J98          2.54757e+09  1.79515e+09           \n",
      "\u001b[J99          2.37281e+09  1.8116e+09            \n",
      "\u001b[J100         2.52844e+09  1.82137e+09           \n"
     ]
    }
   ],
   "source": [
    "trainer.run()"
   ]
  },
  {
   "cell_type": "code",
   "execution_count": 19,
   "metadata": {
    "collapsed": true
   },
   "outputs": [],
   "source": [
    "import json"
   ]
  },
  {
   "cell_type": "code",
   "execution_count": 20,
   "metadata": {
    "collapsed": true
   },
   "outputs": [],
   "source": [
    "with open(\"result/house_price/log\") as f:\n",
    "    logs = json.load(f)"
   ]
  },
  {
   "cell_type": "code",
   "execution_count": 21,
   "metadata": {
    "collapsed": true
   },
   "outputs": [],
   "source": [
    "results = pd.DataFrame(logs)"
   ]
  },
  {
   "cell_type": "code",
   "execution_count": 22,
   "metadata": {},
   "outputs": [
    {
     "data": {
      "text/plain": [
       "<matplotlib.axes._subplots.AxesSubplot at 0x7efc82b9ebe0>"
      ]
     },
     "execution_count": 22,
     "metadata": {},
     "output_type": "execute_result"
    },
    {
     "data": {
      "image/png": "[encoded data removed]",
      "text/plain": [
       "<matplotlib.figure.Figure at 0x7efc82b552e8>"
      ]
     },
     "metadata": {},
     "output_type": "display_data"
    }
   ],
   "source": [
    "results[[\"main/loss\", \"validation/main/loss\"]].plot()"
   ]
  },
  {
   "cell_type": "code",
   "execution_count": 146,
   "metadata": {},
   "outputs": [],
   "source": [
    "chainer.serializers.save_npz(\"models/house_price_1.npz\", model)"
   ]
  },
  {
   "cell_type": "code",
   "execution_count": 147,
   "metadata": {
    "collapsed": true
   },
   "outputs": [],
   "source": [
    "test_house_df = pd.read_csv('test.csv')"
   ]
  },
  {
   "cell_type": "code",
   "execution_count": 148,
   "metadata": {
    "collapsed": true
   },
   "outputs": [],
   "source": [
    "predict_df = pre_process(test_house_df)"
   ]
  },
  {
   "cell_type": "code",
   "execution_count": 149,
   "metadata": {
    "collapsed": true
   },
   "outputs": [],
   "source": [
    "x = predict_df.values"
   ]
  },
  {
   "cell_type": "code",
   "execution_count": 150,
   "metadata": {
    "collapsed": true
   },
   "outputs": [],
   "source": [
    "x = x.astype('f')"
   ]
  },
  {
   "cell_type": "code",
   "execution_count": 151,
   "metadata": {
    "collapsed": true
   },
   "outputs": [],
   "source": [
    "sale_prices = []"
   ]
  },
  {
   "cell_type": "code",
   "execution_count": 152,
   "metadata": {
    "collapsed": true
   },
   "outputs": [],
   "source": [
    "with chainer.using_config('train', False), chainer.using_config('enable_backprop', False):\n",
    "    for i, x_ in enumerate(x):\n",
    "        x_new = x_\n",
    "        x_new = x_new[np.newaxis]\n",
    "        y = model.predictor(x_new)\n",
    "        sale_prices.append(y.data)"
   ]
  },
  {
   "cell_type": "code",
   "execution_count": 153,
   "metadata": {},
   "outputs": [],
   "source": [
    "output_df = pd.DataFrame()"
   ]
  },
  {
   "cell_type": "code",
   "execution_count": 154,
   "metadata": {},
   "outputs": [],
   "source": [
    "sale_prices = np.reshape(sale_prices, 1459)"
   ]
  },
  {
   "cell_type": "code",
   "execution_count": 155,
   "metadata": {},
   "outputs": [],
   "source": [
    "output_df['Id'] = predict_house_df['Id']\n",
    "output_df['SalePrice'] = np.array(sale_prices)"
   ]
  },
  {
   "cell_type": "code",
   "execution_count": 156,
   "metadata": {},
   "outputs": [
    {
     "data": {
      "text/html": [
       "<div>\n",
       "<style>\n",
       "    .dataframe thead tr:only-child th {\n",
       "        text-align: right;\n",
       "    }\n",
       "\n",
       "    .dataframe thead th {\n",
       "        text-align: left;\n",
       "    }\n",
       "\n",
       "    .dataframe tbody tr th {\n",
       "        vertical-align: top;\n",
       "    }\n",
       "</style>\n",
       "<table border=\"1\" class=\"dataframe\">\n",
       "  <thead>\n",
       "    <tr style=\"text-align: right;\">\n",
       "      <th></th>\n",
       "      <th>Id</th>\n",
       "      <th>SalePrice</th>\n",
       "    </tr>\n",
       "  </thead>\n",
       "  <tbody>\n",
       "    <tr>\n",
       "      <th>0</th>\n",
       "      <td>1461</td>\n",
       "      <td>120196.507812</td>\n",
       "    </tr>\n",
       "    <tr>\n",
       "      <th>1</th>\n",
       "      <td>1462</td>\n",
       "      <td>177879.109375</td>\n",
       "    </tr>\n",
       "    <tr>\n",
       "      <th>2</th>\n",
       "      <td>1463</td>\n",
       "      <td>154344.031250</td>\n",
       "    </tr>\n",
       "    <tr>\n",
       "      <th>3</th>\n",
       "      <td>1464</td>\n",
       "      <td>220068.046875</td>\n",
       "    </tr>\n",
       "    <tr>\n",
       "      <th>4</th>\n",
       "      <td>1465</td>\n",
       "      <td>226680.796875</td>\n",
       "    </tr>\n",
       "  </tbody>\n",
       "</table>\n",
       "</div>"
      ],
      "text/plain": [
       "     Id      SalePrice\n",
       "0  1461  120196.507812\n",
       "1  1462  177879.109375\n",
       "2  1463  154344.031250\n",
       "3  1464  220068.046875\n",
       "4  1465  226680.796875"
      ]
     },
     "execution_count": 156,
     "metadata": {},
     "output_type": "execute_result"
    }
   ],
   "source": [
    "output_df.head()"
   ]
  },
  {
   "cell_type": "code",
   "execution_count": 158,
   "metadata": {
    "collapsed": true
   },
   "outputs": [],
   "source": [
    "output_df.to_csv('predict_20190104.csv')"
   ]
  },
  {
   "cell_type": "code",
   "execution_count": null,
   "metadata": {
    "collapsed": true
   },
   "outputs": [],
   "source": []
  }
 ],
 "metadata": {
  "kernelspec": {
   "display_name": "Python 3",
   "language": "python",
   "name": "python3"
  },
  "language_info": {
   "codemirror_mode": {
    "name": "ipython",
    "version": 3
   },
   "file_extension": ".py",
   "mimetype": "text/x-python",
   "name": "python",
   "nbconvert_exporter": "python",
   "pygments_lexer": "ipython3",
   "version": "3.6.1"
  }
 },
 "nbformat": 4,
 "nbformat_minor": 2
}
